{
 "cells": [
  {
   "attachments": {},
   "cell_type": "markdown",
   "metadata": {},
   "source": [
    "# Installation et imports"
   ]
  },
  {
   "attachments": {},
   "cell_type": "markdown",
   "metadata": {},
   "source": [
    "### Installation des modules "
   ]
  },
  {
   "cell_type": "code",
   "execution_count": 418,
   "metadata": {},
   "outputs": [
    {
     "name": "stdout",
     "output_type": "stream",
     "text": [
      "Requirement already satisfied: Pandas in /opt/homebrew/lib/python3.11/site-packages (2.0.2)\n",
      "Requirement already satisfied: python-dateutil>=2.8.2 in /Users/philippineangibaud/Library/Python/3.11/lib/python/site-packages (from Pandas) (2.8.2)\n",
      "Requirement already satisfied: pytz>=2020.1 in /opt/homebrew/lib/python3.11/site-packages (from Pandas) (2023.3)\n",
      "Requirement already satisfied: tzdata>=2022.1 in /opt/homebrew/lib/python3.11/site-packages (from Pandas) (2023.3)\n",
      "Requirement already satisfied: numpy>=1.21.0 in /opt/homebrew/lib/python3.11/site-packages (from Pandas) (1.24.3)\n",
      "Requirement already satisfied: six>=1.5 in /Users/philippineangibaud/Library/Python/3.11/lib/python/site-packages (from python-dateutil>=2.8.2->Pandas) (1.16.0)\n",
      "\n",
      "\u001b[1m[\u001b[0m\u001b[34;49mnotice\u001b[0m\u001b[1;39;49m]\u001b[0m\u001b[39;49m A new release of pip is available: \u001b[0m\u001b[31;49m23.0.1\u001b[0m\u001b[39;49m -> \u001b[0m\u001b[32;49m23.1.2\u001b[0m\n",
      "\u001b[1m[\u001b[0m\u001b[34;49mnotice\u001b[0m\u001b[1;39;49m]\u001b[0m\u001b[39;49m To update, run: \u001b[0m\u001b[32;49mpython3.11 -m pip install --upgrade pip\u001b[0m\n",
      "Note: you may need to restart the kernel to use updated packages.\n"
     ]
    }
   ],
   "source": [
    "%pip install Pandas"
   ]
  },
  {
   "cell_type": "code",
   "execution_count": 419,
   "metadata": {},
   "outputs": [
    {
     "name": "stdout",
     "output_type": "stream",
     "text": [
      "Requirement already satisfied: Matplotlib in /opt/homebrew/lib/python3.11/site-packages (3.7.1)\n",
      "Requirement already satisfied: contourpy>=1.0.1 in /opt/homebrew/lib/python3.11/site-packages (from Matplotlib) (1.1.0)\n",
      "Requirement already satisfied: cycler>=0.10 in /opt/homebrew/lib/python3.11/site-packages (from Matplotlib) (0.11.0)\n",
      "Requirement already satisfied: fonttools>=4.22.0 in /opt/homebrew/lib/python3.11/site-packages (from Matplotlib) (4.40.0)\n",
      "Requirement already satisfied: kiwisolver>=1.0.1 in /opt/homebrew/lib/python3.11/site-packages (from Matplotlib) (1.4.4)\n",
      "Requirement already satisfied: numpy>=1.20 in /opt/homebrew/lib/python3.11/site-packages (from Matplotlib) (1.24.3)\n",
      "Requirement already satisfied: packaging>=20.0 in /Users/philippineangibaud/Library/Python/3.11/lib/python/site-packages (from Matplotlib) (23.1)\n",
      "Requirement already satisfied: pillow>=6.2.0 in /opt/homebrew/lib/python3.11/site-packages (from Matplotlib) (9.5.0)\n",
      "Requirement already satisfied: pyparsing>=2.3.1 in /opt/homebrew/lib/python3.11/site-packages (from Matplotlib) (3.1.0)\n",
      "Requirement already satisfied: python-dateutil>=2.7 in /Users/philippineangibaud/Library/Python/3.11/lib/python/site-packages (from Matplotlib) (2.8.2)\n",
      "Requirement already satisfied: six>=1.5 in /Users/philippineangibaud/Library/Python/3.11/lib/python/site-packages (from python-dateutil>=2.7->Matplotlib) (1.16.0)\n",
      "\n",
      "\u001b[1m[\u001b[0m\u001b[34;49mnotice\u001b[0m\u001b[1;39;49m]\u001b[0m\u001b[39;49m A new release of pip is available: \u001b[0m\u001b[31;49m23.0.1\u001b[0m\u001b[39;49m -> \u001b[0m\u001b[32;49m23.1.2\u001b[0m\n",
      "\u001b[1m[\u001b[0m\u001b[34;49mnotice\u001b[0m\u001b[1;39;49m]\u001b[0m\u001b[39;49m To update, run: \u001b[0m\u001b[32;49mpython3.11 -m pip install --upgrade pip\u001b[0m\n",
      "Note: you may need to restart the kernel to use updated packages.\n"
     ]
    }
   ],
   "source": [
    "%pip install Matplotlib "
   ]
  },
  {
   "cell_type": "code",
   "execution_count": 420,
   "metadata": {},
   "outputs": [
    {
     "name": "stdout",
     "output_type": "stream",
     "text": [
      "Requirement already satisfied: Scikit-learn in /opt/homebrew/lib/python3.11/site-packages (1.2.2)\n",
      "Requirement already satisfied: numpy>=1.17.3 in /opt/homebrew/lib/python3.11/site-packages (from Scikit-learn) (1.24.3)\n",
      "Requirement already satisfied: scipy>=1.3.2 in /opt/homebrew/lib/python3.11/site-packages (from Scikit-learn) (1.10.1)\n",
      "Requirement already satisfied: joblib>=1.1.1 in /opt/homebrew/lib/python3.11/site-packages (from Scikit-learn) (1.2.0)\n",
      "Requirement already satisfied: threadpoolctl>=2.0.0 in /opt/homebrew/lib/python3.11/site-packages (from Scikit-learn) (3.1.0)\n",
      "\n",
      "\u001b[1m[\u001b[0m\u001b[34;49mnotice\u001b[0m\u001b[1;39;49m]\u001b[0m\u001b[39;49m A new release of pip is available: \u001b[0m\u001b[31;49m23.0.1\u001b[0m\u001b[39;49m -> \u001b[0m\u001b[32;49m23.1.2\u001b[0m\n",
      "\u001b[1m[\u001b[0m\u001b[34;49mnotice\u001b[0m\u001b[1;39;49m]\u001b[0m\u001b[39;49m To update, run: \u001b[0m\u001b[32;49mpython3.11 -m pip install --upgrade pip\u001b[0m\n",
      "Note: you may need to restart the kernel to use updated packages.\n"
     ]
    }
   ],
   "source": [
    "%pip install Scikit-learn"
   ]
  },
  {
   "cell_type": "code",
   "execution_count": 421,
   "metadata": {},
   "outputs": [
    {
     "name": "stdout",
     "output_type": "stream",
     "text": [
      "Requirement already satisfied: Numpy in /opt/homebrew/lib/python3.11/site-packages (1.24.3)\n",
      "\n",
      "\u001b[1m[\u001b[0m\u001b[34;49mnotice\u001b[0m\u001b[1;39;49m]\u001b[0m\u001b[39;49m A new release of pip is available: \u001b[0m\u001b[31;49m23.0.1\u001b[0m\u001b[39;49m -> \u001b[0m\u001b[32;49m23.1.2\u001b[0m\n",
      "\u001b[1m[\u001b[0m\u001b[34;49mnotice\u001b[0m\u001b[1;39;49m]\u001b[0m\u001b[39;49m To update, run: \u001b[0m\u001b[32;49mpython3.11 -m pip install --upgrade pip\u001b[0m\n",
      "Note: you may need to restart the kernel to use updated packages.\n"
     ]
    }
   ],
   "source": [
    "%pip install Numpy"
   ]
  },
  {
   "cell_type": "code",
   "execution_count": 537,
   "metadata": {},
   "outputs": [
    {
     "name": "stdout",
     "output_type": "stream",
     "text": [
      "Collecting tqdm\n",
      "  Downloading tqdm-4.65.0-py3-none-any.whl (77 kB)\n",
      "\u001b[2K     \u001b[90m━━━━━━━━━━━━━━━━━━━━━━━━━━━━━━━━━━━━━━━━\u001b[0m \u001b[32m77.1/77.1 kB\u001b[0m \u001b[31m2.5 MB/s\u001b[0m eta \u001b[36m0:00:00\u001b[0m\n",
      "\u001b[?25hInstalling collected packages: tqdm\n",
      "Successfully installed tqdm-4.65.0\n",
      "\n",
      "\u001b[1m[\u001b[0m\u001b[34;49mnotice\u001b[0m\u001b[1;39;49m]\u001b[0m\u001b[39;49m A new release of pip is available: \u001b[0m\u001b[31;49m23.0.1\u001b[0m\u001b[39;49m -> \u001b[0m\u001b[32;49m23.1.2\u001b[0m\n",
      "\u001b[1m[\u001b[0m\u001b[34;49mnotice\u001b[0m\u001b[1;39;49m]\u001b[0m\u001b[39;49m To update, run: \u001b[0m\u001b[32;49mpython3.11 -m pip install --upgrade pip\u001b[0m\n",
      "Note: you may need to restart the kernel to use updated packages.\n"
     ]
    }
   ],
   "source": [
    "%pip install tqdm\n",
    "from tqdm import tqdm"
   ]
  },
  {
   "attachments": {},
   "cell_type": "markdown",
   "metadata": {},
   "source": [
    "### Import et données"
   ]
  },
  {
   "cell_type": "code",
   "execution_count": 422,
   "metadata": {},
   "outputs": [],
   "source": [
    "import pandas as pd\n",
    "import numpy as np\n",
    "import sklearn as sk\n",
    "import matplotlib as plt\n",
    "import math\n"
   ]
  },
  {
   "cell_type": "code",
   "execution_count": 519,
   "metadata": {},
   "outputs": [
    {
     "name": "stdout",
     "output_type": "stream",
     "text": [
      "7498\n"
     ]
    },
    {
     "data": {
      "text/html": [
       "<div>\n",
       "<style scoped>\n",
       "    .dataframe tbody tr th:only-of-type {\n",
       "        vertical-align: middle;\n",
       "    }\n",
       "\n",
       "    .dataframe tbody tr th {\n",
       "        vertical-align: top;\n",
       "    }\n",
       "\n",
       "    .dataframe thead th {\n",
       "        text-align: right;\n",
       "    }\n",
       "</style>\n",
       "<table border=\"1\" class=\"dataframe\">\n",
       "  <thead>\n",
       "    <tr style=\"text-align: right;\">\n",
       "      <th></th>\n",
       "      <th>date</th>\n",
       "      <th>descr_cat_veh</th>\n",
       "      <th>descr_agglo</th>\n",
       "      <th>place</th>\n",
       "      <th>descr_dispo_secu</th>\n",
       "      <th>descr_grav</th>\n",
       "    </tr>\n",
       "  </thead>\n",
       "  <tbody>\n",
       "    <tr>\n",
       "      <th>0</th>\n",
       "      <td>11099</td>\n",
       "      <td>0</td>\n",
       "      <td>0</td>\n",
       "      <td>0</td>\n",
       "      <td>14</td>\n",
       "      <td>0</td>\n",
       "    </tr>\n",
       "    <tr>\n",
       "      <th>1</th>\n",
       "      <td>8119</td>\n",
       "      <td>0</td>\n",
       "      <td>0</td>\n",
       "      <td>3</td>\n",
       "      <td>14</td>\n",
       "      <td>0</td>\n",
       "    </tr>\n",
       "    <tr>\n",
       "      <th>2</th>\n",
       "      <td>25496</td>\n",
       "      <td>1</td>\n",
       "      <td>1</td>\n",
       "      <td>0</td>\n",
       "      <td>14</td>\n",
       "      <td>0</td>\n",
       "    </tr>\n",
       "    <tr>\n",
       "      <th>3</th>\n",
       "      <td>10255</td>\n",
       "      <td>1</td>\n",
       "      <td>1</td>\n",
       "      <td>0</td>\n",
       "      <td>14</td>\n",
       "      <td>0</td>\n",
       "    </tr>\n",
       "    <tr>\n",
       "      <th>4</th>\n",
       "      <td>16977</td>\n",
       "      <td>0</td>\n",
       "      <td>0</td>\n",
       "      <td>0</td>\n",
       "      <td>14</td>\n",
       "      <td>0</td>\n",
       "    </tr>\n",
       "    <tr>\n",
       "      <th>...</th>\n",
       "      <td>...</td>\n",
       "      <td>...</td>\n",
       "      <td>...</td>\n",
       "      <td>...</td>\n",
       "      <td>...</td>\n",
       "      <td>...</td>\n",
       "    </tr>\n",
       "    <tr>\n",
       "      <th>7493</th>\n",
       "      <td>7918</td>\n",
       "      <td>6</td>\n",
       "      <td>1</td>\n",
       "      <td>0</td>\n",
       "      <td>4</td>\n",
       "      <td>3</td>\n",
       "    </tr>\n",
       "    <tr>\n",
       "      <th>7494</th>\n",
       "      <td>28858</td>\n",
       "      <td>2</td>\n",
       "      <td>1</td>\n",
       "      <td>0</td>\n",
       "      <td>11</td>\n",
       "      <td>3</td>\n",
       "    </tr>\n",
       "    <tr>\n",
       "      <th>7495</th>\n",
       "      <td>7578</td>\n",
       "      <td>0</td>\n",
       "      <td>1</td>\n",
       "      <td>0</td>\n",
       "      <td>14</td>\n",
       "      <td>3</td>\n",
       "    </tr>\n",
       "    <tr>\n",
       "      <th>7496</th>\n",
       "      <td>24041</td>\n",
       "      <td>6</td>\n",
       "      <td>0</td>\n",
       "      <td>0</td>\n",
       "      <td>4</td>\n",
       "      <td>3</td>\n",
       "    </tr>\n",
       "    <tr>\n",
       "      <th>7497</th>\n",
       "      <td>24749</td>\n",
       "      <td>0</td>\n",
       "      <td>1</td>\n",
       "      <td>0</td>\n",
       "      <td>14</td>\n",
       "      <td>3</td>\n",
       "    </tr>\n",
       "  </tbody>\n",
       "</table>\n",
       "<p>7498 rows × 6 columns</p>\n",
       "</div>"
      ],
      "text/plain": [
       "       date  descr_cat_veh  descr_agglo  place  descr_dispo_secu  descr_grav\n",
       "0     11099              0            0      0                14           0\n",
       "1      8119              0            0      3                14           0\n",
       "2     25496              1            1      0                14           0\n",
       "3     10255              1            1      0                14           0\n",
       "4     16977              0            0      0                14           0\n",
       "...     ...            ...          ...    ...               ...         ...\n",
       "7493   7918              6            1      0                 4           3\n",
       "7494  28858              2            1      0                11           3\n",
       "7495   7578              0            1      0                14           3\n",
       "7496  24041              6            0      0                 4           3\n",
       "7497  24749              0            1      0                14           3\n",
       "\n",
       "[7498 rows x 6 columns]"
      ]
     },
     "metadata": {},
     "output_type": "display_data"
    }
   ],
   "source": [
    "data = pd.read_csv(\"../dfClean.csv\")\n",
    "\n",
    "counts = data['descr_grav'].value_counts()\n",
    "\n",
    "total_0 = counts[0]/len(data)\n",
    "total_1 = counts[1]/len(data)\n",
    "total_2 = counts[2]/len(data)\n",
    "total_3 = counts[3]/len(data)\n",
    "\n",
    "Proportion_0 = data[data['descr_grav'] == 0].sample(n=int(7500*total_0))\n",
    "Proportion_1 = data[data['descr_grav'] == 1].sample(n=int(7500*total_1))\n",
    "Proportion_2 = data[data['descr_grav'] == 2].sample(n=int(7500*total_2))\n",
    "Proportion_3 = data[data['descr_grav'] == 3].sample(n=int(7500*total_3))\n",
    "\n",
    "data_reduit = pd.concat([Proportion_0,Proportion_1, Proportion_2, Proportion_3])\n",
    "data_reduit = data_reduit.reset_index(drop=True)\n",
    "data_reduit = data_reduit.drop(columns=[\"latitude\", \"longitude\"])\n",
    "print(len(data_reduit))\n",
    "display(data_reduit)"
   ]
  },
  {
   "attachments": {},
   "cell_type": "markdown",
   "metadata": {},
   "source": [
    "# Répartition des données"
   ]
  },
  {
   "attachments": {},
   "cell_type": "markdown",
   "metadata": {},
   "source": [
    "### Répartition holdout "
   ]
  },
  {
   "cell_type": "code",
   "execution_count": 424,
   "metadata": {},
   "outputs": [],
   "source": [
    "from sklearn.model_selection import train_test_split"
   ]
  },
  {
   "cell_type": "code",
   "execution_count": 507,
   "metadata": {},
   "outputs": [],
   "source": [
    "def holdout(dataframe, colonne_predict, num_rep, train_s, test_s ):\n",
    "        liste_data_train_test = []\n",
    "        liste_data = []\n",
    "        clean_data = dataframe.drop(colonne_predict, axis = 1)\n",
    "        y = dataframe[colonne_predict]\n",
    "        for i in range(num_rep):\n",
    "                X_train, X_test, y_train, y_test = train_test_split(clean_data,y, train_size= train_s, test_size = test_s)\n",
    "                X_train = X_train.reset_index(drop=True)\n",
    "                y_train = y_train.reset_index(drop=True)\n",
    "                X_test = X_test.reset_index(drop=True)\n",
    "                y_test = y_test.reset_index(drop=True)\n",
    "                liste_data_train_test.append([X_train, X_test, y_train, y_test])\n",
    "        return liste_data_train_test"
   ]
  },
  {
   "attachments": {},
   "cell_type": "markdown",
   "metadata": {},
   "source": [
    "### Répartition Leave One Out"
   ]
  },
  {
   "cell_type": "code",
   "execution_count": 427,
   "metadata": {},
   "outputs": [],
   "source": [
    "from sklearn.model_selection import LeaveOneOut\n",
    "from sklearn.neighbors import KNeighborsClassifier"
   ]
  },
  {
   "cell_type": "code",
   "execution_count": 586,
   "metadata": {},
   "outputs": [],
   "source": [
    "def leaveoneout(dataframe, colonne_predict,k):\n",
    "    liste_y_pred = []\n",
    "    liste_y_test = []\n",
    "    X = dataframe.drop(colonne_predict, axis = 1) \n",
    "    y = dataframe[colonne_predict]\n",
    "    LOO = LeaveOneOut()\n",
    "    knn = KNeighborsClassifier(n_neighbors=k)\n",
    "    \n",
    "    for train_index, test_index in (LOO.split(X)):\n",
    "        X_train, X_test = X.iloc[train_index], X.iloc[test_index]\n",
    "        y_train, y_test = y.iloc[train_index], y.iloc[test_index]\n",
    "        knn.fit(X_train, y_train)\n",
    "        y_pred = knn.predict(X_test)\n",
    "        liste_y_pred.append(y_pred)\n",
    "        liste_y_test.append(y_test)\n",
    "        \n",
    "    return liste_y_pred, liste_y_test"
   ]
  },
  {
   "attachments": {},
   "cell_type": "markdown",
   "metadata": {},
   "source": []
  },
  {
   "attachments": {},
   "cell_type": "markdown",
   "metadata": {},
   "source": [
    "# Classification avec KNN"
   ]
  },
  {
   "attachments": {},
   "cell_type": "markdown",
   "metadata": {},
   "source": [
    "### Fonctions from scratch"
   ]
  },
  {
   "cell_type": "code",
   "execution_count": 467,
   "metadata": {},
   "outputs": [],
   "source": [
    "#Fonction de classification knn\n",
    "def KnnClassification_distance_euclidienne(ligne,y_train,df,k):\n",
    "    dictList = [None] * len(df)\n",
    "    liste_y_pred = []\n",
    "    for index, row in df.iterrows():\n",
    "        dictList[index] = np.linalg.norm(ligne - row) #calcul de la distance euclidienne\n",
    "    \n",
    "    sorted_values = sorted(enumerate(dictList), key=lambda x: x[1])[:k]\n",
    "    for index,value in sorted_values:\n",
    "        #firstk.append([df.loc[index]])\n",
    "        liste_y_pred.append(y_train[index])\n",
    "    \n",
    "    y_pred = np.bincount(liste_y_pred).argmax()\n",
    "        \n",
    "    return y_pred"
   ]
  },
  {
   "cell_type": "code",
   "execution_count": 466,
   "metadata": {},
   "outputs": [],
   "source": [
    "#Fonction de classification knn\n",
    "def KnnClassification_distance_manhattan(ligne, y_train, df, k):\n",
    "    dictList = [None] * len(df)\n",
    "    liste_y_pred = []\n",
    "    \n",
    "    for index, row in df.iterrows():\n",
    "        dictList[index] = np.sum(np.abs(ligne - row))  # Calcul de la distance de Manhattan\n",
    "    \n",
    "    sorted_values = sorted(enumerate(dictList), key=lambda x: x[1])[:k]\n",
    "    \n",
    "    for index, value in sorted_values:\n",
    "        liste_y_pred.append(y_train[index])\n",
    "    \n",
    "    y_pred = np.bincount(liste_y_pred).argmax()\n",
    "        \n",
    "    return y_pred"
   ]
  },
  {
   "cell_type": "code",
   "execution_count": 464,
   "metadata": {},
   "outputs": [],
   "source": [
    "def KnnClassification_distance_sup_norme(ligne, y_train, df, k):\n",
    "    dictList = [None] * len(df)\n",
    "    liste_y_pred = []\n",
    "    \n",
    "    for index, row in df.iterrows():\n",
    "        dictList[index] = np.max(np.abs(ligne - row))  # Calcul de la distance de la norme supérieure\n",
    "    \n",
    "    sorted_values = sorted(enumerate(dictList), key=lambda x: x[1])[:k]\n",
    "    \n",
    "    for index, value in sorted_values:\n",
    "        liste_y_pred.append(y_train[index])\n",
    "    \n",
    "    y_pred = np.bincount(liste_y_pred).argmax()\n",
    "        \n",
    "    return y_pred"
   ]
  },
  {
   "attachments": {},
   "cell_type": "markdown",
   "metadata": {},
   "source": [
    "### Scikit learn"
   ]
  },
  {
   "cell_type": "code",
   "execution_count": 575,
   "metadata": {},
   "outputs": [],
   "source": [
    "#prediction holdout sklearn\n",
    "def  KnnClassification_sk_learn(liste_data,k):\n",
    "    knn = KNeighborsClassifier(n_neighbors=k)\n",
    "    liste_y_pred_holdout_sk = []\n",
    "    liste_y_test_holdout_sk = []\n",
    "    for i in range(len(liste_data)):\n",
    "        X_train = liste_data[i][0]\n",
    "        X_test = liste_data[i][1]\n",
    "        y_train = liste_data[i][2]\n",
    "        y_test = liste_data[i][3]\n",
    "        knn.fit(X_train, y_train)\n",
    "        y_pred = knn.predict(X_test)\n",
    "        liste_y_pred_holdout_sk.append(y_pred)\n",
    "        liste_y_test_holdout_sk.append(y_test)\n",
    "    return liste_y_pred_holdout_sk, liste_y_test_holdout_sk"
   ]
  },
  {
   "attachments": {},
   "cell_type": "markdown",
   "metadata": {},
   "source": [
    "### Calcul de score"
   ]
  },
  {
   "cell_type": "code",
   "execution_count": 447,
   "metadata": {},
   "outputs": [],
   "source": [
    "from sklearn.metrics import accuracy_score"
   ]
  },
  {
   "cell_type": "code",
   "execution_count": 587,
   "metadata": {},
   "outputs": [
    {
     "ename": "KeyError",
     "evalue": "\"None of [Index([   1,    2,    3,    4,    5,    6,    7,    8,    9,   10,\\n       ...\\n       7488, 7489, 7490, 7491, 7492, 7493, 7494, 7495, 7496, 7497],\\n      dtype='int64', length=7497)] are in the [columns]\"",
     "output_type": "error",
     "traceback": [
      "\u001b[0;31m---------------------------------------------------------------------------\u001b[0m",
      "\u001b[0;31mKeyError\u001b[0m                                  Traceback (most recent call last)",
      "Cell \u001b[0;32mIn[587], line 2\u001b[0m\n\u001b[1;32m      1\u001b[0m \u001b[39m#Répartition leave One Out\u001b[39;00m\n\u001b[0;32m----> 2\u001b[0m y_pred_LOO_5, y_test_LOO_5 \u001b[39m=\u001b[39m leaveoneout(data_reduit, \u001b[39m\"\u001b[39;49m\u001b[39mdescr_grav\u001b[39;49m\u001b[39m\"\u001b[39;49m, \u001b[39m5\u001b[39;49m)\n\u001b[1;32m      3\u001b[0m y_pred_LOO_7, y_test_LOO_7 \u001b[39m=\u001b[39m leaveoneout(data_reduit, \u001b[39m\"\u001b[39m\u001b[39mdescr_grav\u001b[39m\u001b[39m\"\u001b[39m, \u001b[39m7\u001b[39m)\n\u001b[1;32m      4\u001b[0m y_pred_LOO_10, y_test_LOO_10 \u001b[39m=\u001b[39m leaveoneout(data_reduit, \u001b[39m\"\u001b[39m\u001b[39mdescr_grav\u001b[39m\u001b[39m\"\u001b[39m, \u001b[39m10\u001b[39m)\n",
      "Cell \u001b[0;32mIn[586], line 10\u001b[0m, in \u001b[0;36mleaveoneout\u001b[0;34m(dataframe, colonne_predict, k)\u001b[0m\n\u001b[1;32m      7\u001b[0m knn \u001b[39m=\u001b[39m KNeighborsClassifier(n_neighbors\u001b[39m=\u001b[39mk)\n\u001b[1;32m      9\u001b[0m \u001b[39mfor\u001b[39;00m train_index, test_index \u001b[39min\u001b[39;00m (LOO\u001b[39m.\u001b[39msplit(X)):\n\u001b[0;32m---> 10\u001b[0m     X_train, X_test \u001b[39m=\u001b[39m X[train_index], X[test_index]\n\u001b[1;32m     11\u001b[0m     y_train, y_test \u001b[39m=\u001b[39m y[train_index], y[test_index]\n\u001b[1;32m     12\u001b[0m     knn\u001b[39m.\u001b[39mfit(X_train, y_train)\n",
      "File \u001b[0;32m/opt/homebrew/lib/python3.11/site-packages/pandas/core/frame.py:3767\u001b[0m, in \u001b[0;36mDataFrame.__getitem__\u001b[0;34m(self, key)\u001b[0m\n\u001b[1;32m   3765\u001b[0m     \u001b[39mif\u001b[39;00m is_iterator(key):\n\u001b[1;32m   3766\u001b[0m         key \u001b[39m=\u001b[39m \u001b[39mlist\u001b[39m(key)\n\u001b[0;32m-> 3767\u001b[0m     indexer \u001b[39m=\u001b[39m \u001b[39mself\u001b[39;49m\u001b[39m.\u001b[39;49mcolumns\u001b[39m.\u001b[39;49m_get_indexer_strict(key, \u001b[39m\"\u001b[39;49m\u001b[39mcolumns\u001b[39;49m\u001b[39m\"\u001b[39;49m)[\u001b[39m1\u001b[39m]\n\u001b[1;32m   3769\u001b[0m \u001b[39m# take() does not accept boolean indexers\u001b[39;00m\n\u001b[1;32m   3770\u001b[0m \u001b[39mif\u001b[39;00m \u001b[39mgetattr\u001b[39m(indexer, \u001b[39m\"\u001b[39m\u001b[39mdtype\u001b[39m\u001b[39m\"\u001b[39m, \u001b[39mNone\u001b[39;00m) \u001b[39m==\u001b[39m \u001b[39mbool\u001b[39m:\n",
      "File \u001b[0;32m/opt/homebrew/lib/python3.11/site-packages/pandas/core/indexes/base.py:5876\u001b[0m, in \u001b[0;36mIndex._get_indexer_strict\u001b[0;34m(self, key, axis_name)\u001b[0m\n\u001b[1;32m   5873\u001b[0m \u001b[39melse\u001b[39;00m:\n\u001b[1;32m   5874\u001b[0m     keyarr, indexer, new_indexer \u001b[39m=\u001b[39m \u001b[39mself\u001b[39m\u001b[39m.\u001b[39m_reindex_non_unique(keyarr)\n\u001b[0;32m-> 5876\u001b[0m \u001b[39mself\u001b[39;49m\u001b[39m.\u001b[39;49m_raise_if_missing(keyarr, indexer, axis_name)\n\u001b[1;32m   5878\u001b[0m keyarr \u001b[39m=\u001b[39m \u001b[39mself\u001b[39m\u001b[39m.\u001b[39mtake(indexer)\n\u001b[1;32m   5879\u001b[0m \u001b[39mif\u001b[39;00m \u001b[39misinstance\u001b[39m(key, Index):\n\u001b[1;32m   5880\u001b[0m     \u001b[39m# GH 42790 - Preserve name from an Index\u001b[39;00m\n",
      "File \u001b[0;32m/opt/homebrew/lib/python3.11/site-packages/pandas/core/indexes/base.py:5935\u001b[0m, in \u001b[0;36mIndex._raise_if_missing\u001b[0;34m(self, key, indexer, axis_name)\u001b[0m\n\u001b[1;32m   5933\u001b[0m     \u001b[39mif\u001b[39;00m use_interval_msg:\n\u001b[1;32m   5934\u001b[0m         key \u001b[39m=\u001b[39m \u001b[39mlist\u001b[39m(key)\n\u001b[0;32m-> 5935\u001b[0m     \u001b[39mraise\u001b[39;00m \u001b[39mKeyError\u001b[39;00m(\u001b[39mf\u001b[39m\u001b[39m\"\u001b[39m\u001b[39mNone of [\u001b[39m\u001b[39m{\u001b[39;00mkey\u001b[39m}\u001b[39;00m\u001b[39m] are in the [\u001b[39m\u001b[39m{\u001b[39;00maxis_name\u001b[39m}\u001b[39;00m\u001b[39m]\u001b[39m\u001b[39m\"\u001b[39m)\n\u001b[1;32m   5937\u001b[0m not_found \u001b[39m=\u001b[39m \u001b[39mlist\u001b[39m(ensure_index(key)[missing_mask\u001b[39m.\u001b[39mnonzero()[\u001b[39m0\u001b[39m]]\u001b[39m.\u001b[39munique())\n\u001b[1;32m   5938\u001b[0m \u001b[39mraise\u001b[39;00m \u001b[39mKeyError\u001b[39;00m(\u001b[39mf\u001b[39m\u001b[39m\"\u001b[39m\u001b[39m{\u001b[39;00mnot_found\u001b[39m}\u001b[39;00m\u001b[39m not in index\u001b[39m\u001b[39m\"\u001b[39m)\n",
      "\u001b[0;31mKeyError\u001b[0m: \"None of [Index([   1,    2,    3,    4,    5,    6,    7,    8,    9,   10,\\n       ...\\n       7488, 7489, 7490, 7491, 7492, 7493, 7494, 7495, 7496, 7497],\\n      dtype='int64', length=7497)] are in the [columns]\""
     ]
    }
   ],
   "source": [
    "#Répartition leave One Out\n",
    "y_pred_LOO_5, y_test_LOO_5 = leaveoneout(data_reduit, \"descr_grav\", 5)\n",
    "y_pred_LOO_7, y_test_LOO_7 = leaveoneout(data_reduit, \"descr_grav\", 7)\n",
    "y_pred_LOO_10, y_test_LOO_10 = leaveoneout(data_reduit, \"descr_grav\", 10)"
   ]
  },
  {
   "cell_type": "code",
   "execution_count": 521,
   "metadata": {},
   "outputs": [
    {
     "name": "stdout",
     "output_type": "stream",
     "text": [
      "39.82395305414777\n",
      "39.7839423846359\n",
      "40.87756735129368\n"
     ]
    }
   ],
   "source": [
    "# Score répartition leave One Out\n",
    "accuracy_LOO_5 = accuracy_score(y_test_LOO_5, y_pred_LOO_5)\n",
    "accuracy_LOO_7 = accuracy_score(y_test_LOO_7, y_pred_LOO_7)\n",
    "accuracy_LOO_10 = accuracy_score(y_test_LOO_10, y_pred_LOO_10)\n",
    "\n",
    "print(accuracy_LOO_5*100)\n",
    "print(accuracy_LOO_7*100)\n",
    "print(accuracy_LOO_10*100)"
   ]
  },
  {
   "cell_type": "code",
   "execution_count": 557,
   "metadata": {},
   "outputs": [],
   "source": [
    "#Répartition hold out\n",
    "liste_data_holdout = []\n",
    "liste_data_holdout  = holdout(data_reduit,\"descr_grav\", 5, 0.8, 0.2)\n",
    "\n",
    "# Prediction holdout from scratch\n",
    "total_y_pred_holdout_euclidienne = []\n",
    "total_y_pred_holdout_manhattan = []\n",
    "total_y_pred_holdout_sup_norme = []\n",
    "\n",
    "X_test_0 = liste_data_holdout[0][1]\n",
    "y_train_0  = liste_data_holdout[0][2]\n",
    "X_train_0 = liste_data_holdout[0][0]\n",
    "y_test_0 =  liste_data_holdout[0][3]\n",
    "\n",
    "for k in [5,7, 10]:\n",
    "    liste_y_pred_holdout_euclidienne = []\n",
    "    liste_y_pred_holdout_manhattan = []\n",
    "    liste_y_pred_holdout_sup_norme = []\n",
    "    \n",
    "    for i in range(len(X_test_0)):\n",
    "        y_pred_holdout_euclidienne = KnnClassification_distance_euclidienne(X_test_0.loc[i], y_train_0, X_train_0, k)\n",
    "        liste_y_pred_holdout_euclidienne.append(y_pred_holdout_euclidienne)\n",
    "\n",
    "        y_pred_holdout_manhattan = KnnClassification_distance_manhattan(X_test_0.loc[i], y_train_0, X_train_0, k)\n",
    "        liste_y_pred_holdout_manhattan.append(y_pred_holdout_manhattan)\n",
    "\n",
    "        y_pred_holdout_sup_norme = KnnClassification_distance_sup_norme(X_test_0.loc[i], y_train_0, X_train_0, k)\n",
    "        liste_y_pred_holdout_sup_norme.append(y_pred_holdout_sup_norme)\n",
    "        \n",
    "    \n",
    "    total_y_pred_holdout_euclidienne.append(liste_y_pred_holdout_euclidienne)\n",
    "    total_y_pred_holdout_manhattan.append(liste_y_pred_holdout_manhattan)\n",
    "    total_y_pred_holdout_sup_norme.append(liste_y_pred_holdout_sup_norme)"
   ]
  },
  {
   "cell_type": "code",
   "execution_count": 564,
   "metadata": {},
   "outputs": [
    {
     "name": "stdout",
     "output_type": "stream",
     "text": [
      "1500\n",
      "1500\n"
     ]
    }
   ],
   "source": [
    "print(len(y_test_0))\n",
    "print(len(total_y_pred_holdout_euclidienne[0]))"
   ]
  },
  {
   "cell_type": "code",
   "execution_count": 565,
   "metadata": {},
   "outputs": [
    {
     "name": "stdout",
     "output_type": "stream",
     "text": [
      "Score euclidienne: 39.06666666666666 39.53333333333333 39.86666666666667\n",
      "Score manhattan: 40.2 40.8 41.86666666666667\n",
      "Score sup norme: 38.2 38.53333333333334 39.4\n"
     ]
    }
   ],
   "source": [
    "# Score répartition leave One Out\n",
    "accuracy_holdout_euclidienne_5 = accuracy_score(y_test_0, total_y_pred_holdout_euclidienne[0])\n",
    "accuracy_holdout_euclidienne_7 = accuracy_score(y_test_0, total_y_pred_holdout_euclidienne[1])\n",
    "accuracy_holdout_euclidienne_10 = accuracy_score(y_test_0, total_y_pred_holdout_euclidienne[2])\n",
    "\n",
    "\n",
    "accuracy_holdout_manhattan_5 = accuracy_score(y_test_0, total_y_pred_holdout_manhattan[0])\n",
    "accuracy_holdout_manhattan_7 = accuracy_score(y_test_0, total_y_pred_holdout_manhattan[1])\n",
    "accuracy_holdout_manhattan_10 = accuracy_score(y_test_0, total_y_pred_holdout_manhattan[2])\n",
    "\n",
    "accuracy_holdout_sup_norme_5 = accuracy_score(y_test_0, total_y_pred_holdout_sup_norme[0])\n",
    "accuracy_holdout_sup_norme_7 = accuracy_score(y_test_0, total_y_pred_holdout_sup_norme[1])\n",
    "accuracy_holdout_sup_norme_10 = accuracy_score(y_test_0, total_y_pred_holdout_sup_norme[2])\n",
    "\n",
    "print(\"Score euclidienne:\", accuracy_holdout_euclidienne_5*100, accuracy_holdout_euclidienne_7*100, accuracy_holdout_euclidienne_10*100)\n",
    "print(\"Score manhattan:\", accuracy_holdout_manhattan_5*100, accuracy_holdout_manhattan_7*100, accuracy_holdout_manhattan_10*100)\n",
    "print(\"Score sup norme:\", accuracy_holdout_sup_norme_5*100, accuracy_holdout_sup_norme_7*100, accuracy_holdout_sup_norme_10*100 )"
   ]
  },
  {
   "cell_type": "code",
   "execution_count": 584,
   "metadata": {},
   "outputs": [],
   "source": [
    "#Score prediction holdout scikit learn\n",
    "liste_data_holdout  = holdout(data_reduit,\"descr_grav\", 5, 0.8, 0.2)\n",
    "liste_accuracy_holdout_sk = []\n",
    "for k in [5,7,10]:\n",
    "    liste_y_pred_holdout_sk, liste_y_test_holdout_sk = KnnClassification_sk_learn(liste_data_holdout,k)\n",
    "    liste_score =[]\n",
    "    for i in range(5):\n",
    "        accuracy_holdout_sk = accuracy_score(liste_y_test_holdout_sk[i], liste_y_pred_holdout_sk[i])\n",
    "        liste_score.append(accuracy_holdout_sk)\n",
    "    liste_accuracy_holdout_sk.append(liste_score)"
   ]
  },
  {
   "cell_type": "code",
   "execution_count": 585,
   "metadata": {},
   "outputs": [
    {
     "name": "stdout",
     "output_type": "stream",
     "text": [
      "[[0.37733333333333335, 0.41933333333333334, 0.3973333333333333, 0.38866666666666666, 0.41133333333333333], [0.376, 0.4086666666666667, 0.38666666666666666, 0.37866666666666665, 0.38666666666666666], [0.39066666666666666, 0.41, 0.394, 0.3873333333333333, 0.414]]\n"
     ]
    }
   ],
   "source": [
    "print(liste_accuracy_holdout_sk)"
   ]
  },
  {
   "attachments": {},
   "cell_type": "markdown",
   "metadata": {},
   "source": [
    "# Évaluation quantitative des résultats"
   ]
  },
  {
   "attachments": {},
   "cell_type": "markdown",
   "metadata": {},
   "source": [
    "### Évaluation sur les données d'apprentissage"
   ]
  },
  {
   "cell_type": "code",
   "execution_count": null,
   "metadata": {},
   "outputs": [],
   "source": [
    "from sklearn.model_selection import cross_val_score\n",
    "from sklearn.model_selection import cross_val_predict\n",
    "from sklearn.metrics import ConfusionMatrixDisplay\n",
    "from sklearn.metrics import precision_score\n",
    "from sklearn.metrics import recall_score"
   ]
  },
  {
   "cell_type": "code",
   "execution_count": 588,
   "metadata": {},
   "outputs": [],
   "source": [
    "def evaluation(objet, X, Y):\n",
    "    #calcul taux de classification\n",
    "    taux_classification = cross_val_score(objet, X, Y, scoring='accuracy')\n",
    "    #Moyenne taux de classification\n",
    "    moyenne_taux_classification = np.mean(taux_classification)\n",
    "    #prédiction \n",
    "    Y_pred = cross_val_predict(objet, X, Y)\n",
    "    #Calcul du score (taux d'apprentissage)\n",
    "    accuracy = accuracy_score(Y, Y_pred)\n",
    "    # Matrice de confusion à partir des classes réelle et celles prédites\n",
    "    matrice_confusion = ConfusionMatrixDisplay.from_predictions(Y, Y_pred, normalize=\"true\",  values_format=\".0%\") #résultat en pourcentage\n",
    "    # Précision du modèle\n",
    "    precision = precision_score(Y, Y_pred, average='weighted')\n",
    "    # Rappel du modèle\n",
    "    rappel = recall_score(Y, Y_pred, average='weighted')\n",
    "\n",
    "    return taux_classification, moyenne_taux_classification, Y_pred, accuracy, matrice_confusion, precision, rappel\n",
    "\n"
   ]
  },
  {
   "attachments": {},
   "cell_type": "markdown",
   "metadata": {},
   "source": [
    "### Évaluation sur les données de test"
   ]
  }
 ],
 "metadata": {
  "kernelspec": {
   "display_name": "Python 3",
   "language": "python",
   "name": "python3"
  },
  "language_info": {
   "codemirror_mode": {
    "name": "ipython",
    "version": 3
   },
   "file_extension": ".py",
   "mimetype": "text/x-python",
   "name": "python",
   "nbconvert_exporter": "python",
   "pygments_lexer": "ipython3",
   "version": "3.11.3"
  },
  "orig_nbformat": 4
 },
 "nbformat": 4,
 "nbformat_minor": 2
}
