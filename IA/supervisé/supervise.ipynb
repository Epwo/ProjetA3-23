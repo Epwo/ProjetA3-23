{
 "cells": [
  {
   "attachments": {},
   "cell_type": "markdown",
   "metadata": {},
   "source": [
    "# Installation et imports"
   ]
  },
  {
   "attachments": {},
   "cell_type": "markdown",
   "metadata": {},
   "source": [
    "### Installation des modules "
   ]
  },
  {
   "cell_type": "code",
   "execution_count": 327,
   "metadata": {},
   "outputs": [
    {
     "name": "stdout",
     "output_type": "stream",
     "text": [
      "Requirement already satisfied: Pandas in /opt/homebrew/lib/python3.11/site-packages (2.0.2)\n",
      "Requirement already satisfied: python-dateutil>=2.8.2 in /Users/philippineangibaud/Library/Python/3.11/lib/python/site-packages (from Pandas) (2.8.2)\n",
      "Requirement already satisfied: pytz>=2020.1 in /opt/homebrew/lib/python3.11/site-packages (from Pandas) (2023.3)\n",
      "Requirement already satisfied: tzdata>=2022.1 in /opt/homebrew/lib/python3.11/site-packages (from Pandas) (2023.3)\n",
      "Requirement already satisfied: numpy>=1.21.0 in /opt/homebrew/lib/python3.11/site-packages (from Pandas) (1.24.3)\n",
      "Requirement already satisfied: six>=1.5 in /Users/philippineangibaud/Library/Python/3.11/lib/python/site-packages (from python-dateutil>=2.8.2->Pandas) (1.16.0)\n",
      "\n",
      "\u001b[1m[\u001b[0m\u001b[34;49mnotice\u001b[0m\u001b[1;39;49m]\u001b[0m\u001b[39;49m A new release of pip is available: \u001b[0m\u001b[31;49m23.0.1\u001b[0m\u001b[39;49m -> \u001b[0m\u001b[32;49m23.1.2\u001b[0m\n",
      "\u001b[1m[\u001b[0m\u001b[34;49mnotice\u001b[0m\u001b[1;39;49m]\u001b[0m\u001b[39;49m To update, run: \u001b[0m\u001b[32;49mpython3.11 -m pip install --upgrade pip\u001b[0m\n",
      "Note: you may need to restart the kernel to use updated packages.\n"
     ]
    }
   ],
   "source": [
    "%pip install Pandas"
   ]
  },
  {
   "cell_type": "code",
   "execution_count": 328,
   "metadata": {},
   "outputs": [
    {
     "name": "stdout",
     "output_type": "stream",
     "text": [
      "Requirement already satisfied: Matplotlib in /opt/homebrew/lib/python3.11/site-packages (3.7.1)\n",
      "Requirement already satisfied: contourpy>=1.0.1 in /opt/homebrew/lib/python3.11/site-packages (from Matplotlib) (1.1.0)\n",
      "Requirement already satisfied: cycler>=0.10 in /opt/homebrew/lib/python3.11/site-packages (from Matplotlib) (0.11.0)\n",
      "Requirement already satisfied: fonttools>=4.22.0 in /opt/homebrew/lib/python3.11/site-packages (from Matplotlib) (4.40.0)\n",
      "Requirement already satisfied: kiwisolver>=1.0.1 in /opt/homebrew/lib/python3.11/site-packages (from Matplotlib) (1.4.4)\n",
      "Requirement already satisfied: numpy>=1.20 in /opt/homebrew/lib/python3.11/site-packages (from Matplotlib) (1.24.3)\n",
      "Requirement already satisfied: packaging>=20.0 in /Users/philippineangibaud/Library/Python/3.11/lib/python/site-packages (from Matplotlib) (23.1)\n",
      "Requirement already satisfied: pillow>=6.2.0 in /opt/homebrew/lib/python3.11/site-packages (from Matplotlib) (9.5.0)\n",
      "Requirement already satisfied: pyparsing>=2.3.1 in /opt/homebrew/lib/python3.11/site-packages (from Matplotlib) (3.1.0)\n",
      "Requirement already satisfied: python-dateutil>=2.7 in /Users/philippineangibaud/Library/Python/3.11/lib/python/site-packages (from Matplotlib) (2.8.2)\n",
      "Requirement already satisfied: six>=1.5 in /Users/philippineangibaud/Library/Python/3.11/lib/python/site-packages (from python-dateutil>=2.7->Matplotlib) (1.16.0)\n",
      "\n",
      "\u001b[1m[\u001b[0m\u001b[34;49mnotice\u001b[0m\u001b[1;39;49m]\u001b[0m\u001b[39;49m A new release of pip is available: \u001b[0m\u001b[31;49m23.0.1\u001b[0m\u001b[39;49m -> \u001b[0m\u001b[32;49m23.1.2\u001b[0m\n",
      "\u001b[1m[\u001b[0m\u001b[34;49mnotice\u001b[0m\u001b[1;39;49m]\u001b[0m\u001b[39;49m To update, run: \u001b[0m\u001b[32;49mpython3.11 -m pip install --upgrade pip\u001b[0m\n",
      "Note: you may need to restart the kernel to use updated packages.\n"
     ]
    }
   ],
   "source": [
    "%pip install Matplotlib "
   ]
  },
  {
   "cell_type": "code",
   "execution_count": 329,
   "metadata": {},
   "outputs": [
    {
     "name": "stdout",
     "output_type": "stream",
     "text": [
      "Requirement already satisfied: Scikit-learn in /opt/homebrew/lib/python3.11/site-packages (1.2.2)\n",
      "Requirement already satisfied: numpy>=1.17.3 in /opt/homebrew/lib/python3.11/site-packages (from Scikit-learn) (1.24.3)\n",
      "Requirement already satisfied: scipy>=1.3.2 in /opt/homebrew/lib/python3.11/site-packages (from Scikit-learn) (1.10.1)\n",
      "Requirement already satisfied: joblib>=1.1.1 in /opt/homebrew/lib/python3.11/site-packages (from Scikit-learn) (1.2.0)\n",
      "Requirement already satisfied: threadpoolctl>=2.0.0 in /opt/homebrew/lib/python3.11/site-packages (from Scikit-learn) (3.1.0)\n",
      "\n",
      "\u001b[1m[\u001b[0m\u001b[34;49mnotice\u001b[0m\u001b[1;39;49m]\u001b[0m\u001b[39;49m A new release of pip is available: \u001b[0m\u001b[31;49m23.0.1\u001b[0m\u001b[39;49m -> \u001b[0m\u001b[32;49m23.1.2\u001b[0m\n",
      "\u001b[1m[\u001b[0m\u001b[34;49mnotice\u001b[0m\u001b[1;39;49m]\u001b[0m\u001b[39;49m To update, run: \u001b[0m\u001b[32;49mpython3.11 -m pip install --upgrade pip\u001b[0m\n",
      "Note: you may need to restart the kernel to use updated packages.\n"
     ]
    }
   ],
   "source": [
    "%pip install Scikit-learn"
   ]
  },
  {
   "cell_type": "code",
   "execution_count": 330,
   "metadata": {},
   "outputs": [
    {
     "name": "stdout",
     "output_type": "stream",
     "text": [
      "Requirement already satisfied: Numpy in /opt/homebrew/lib/python3.11/site-packages (1.24.3)\n",
      "\n",
      "\u001b[1m[\u001b[0m\u001b[34;49mnotice\u001b[0m\u001b[1;39;49m]\u001b[0m\u001b[39;49m A new release of pip is available: \u001b[0m\u001b[31;49m23.0.1\u001b[0m\u001b[39;49m -> \u001b[0m\u001b[32;49m23.1.2\u001b[0m\n",
      "\u001b[1m[\u001b[0m\u001b[34;49mnotice\u001b[0m\u001b[1;39;49m]\u001b[0m\u001b[39;49m To update, run: \u001b[0m\u001b[32;49mpython3.11 -m pip install --upgrade pip\u001b[0m\n",
      "Note: you may need to restart the kernel to use updated packages.\n"
     ]
    }
   ],
   "source": [
    "%pip install Numpy"
   ]
  },
  {
   "attachments": {},
   "cell_type": "markdown",
   "metadata": {},
   "source": [
    "### Import et données"
   ]
  },
  {
   "cell_type": "code",
   "execution_count": 331,
   "metadata": {},
   "outputs": [],
   "source": [
    "import pandas as pd\n",
    "import numpy as np\n",
    "import sklearn as sk\n",
    "import matplotlib as plt\n",
    "import math\n"
   ]
  },
  {
   "cell_type": "code",
   "execution_count": 332,
   "metadata": {},
   "outputs": [],
   "source": [
    "data = pd.read_csv(\"../df.csv\")"
   ]
  },
  {
   "attachments": {},
   "cell_type": "markdown",
   "metadata": {},
   "source": [
    "# Répartition des données"
   ]
  },
  {
   "attachments": {},
   "cell_type": "markdown",
   "metadata": {},
   "source": [
    "### Répartition des données en base d’apprentissage et de tests en utilisant les algorithmes holdout "
   ]
  },
  {
   "cell_type": "code",
   "execution_count": 333,
   "metadata": {},
   "outputs": [],
   "source": [
    "from sklearn.model_selection import train_test_split"
   ]
  },
  {
   "cell_type": "code",
   "execution_count": 334,
   "metadata": {},
   "outputs": [],
   "source": [
    "def holdout(dataframe, colonne_predict, num_rep, train_s, test_s ):\n",
    "        liste_data_train_test = []\n",
    "        liste_data = []\n",
    "        clean_data = dataframe.drop(colonne_predict, axis = 1)\n",
    "        y = dataframe[colonne_predict]\n",
    "        for i in range(num_rep):\n",
    "                X_train, X_test, y_train, y_test = train_test_split(clean_data,y, train_size= train_s, test_size = test_s)\n",
    "                liste_data_train_test.append([X_train, X_test, y_train, y_test])\n",
    "        return liste_data_train_test"
   ]
  },
  {
   "cell_type": "code",
   "execution_count": 335,
   "metadata": {},
   "outputs": [],
   "source": [
    "liste_data_holdout = []\n",
    "data_test = data[['descr_grav', 'latitude', 'longitude']]\n",
    "liste_data_holdout  = holdout(data_test,\"descr_grav\", 5, 0.8, 0.2)"
   ]
  },
  {
   "cell_type": "code",
   "execution_count": 336,
   "metadata": {},
   "outputs": [],
   "source": [
    "from sklearn.model_selection import LeaveOneOut\n",
    "from sklearn.neighbors import KNeighborsClassifier"
   ]
  },
  {
   "cell_type": "code",
   "execution_count": 337,
   "metadata": {},
   "outputs": [],
   "source": [
    "def leaveoneout(dataframe, colonne_predict):\n",
    "    liste_data = []\n",
    "    data = dataframe.sample(n=7000) #on prend 10% du dataframe\n",
    "    data = data.reset_index(drop=True)\n",
    "    X = data.drop(colonne_predict, axis = 1) \n",
    "    y = data[colonne_predict]\n",
    "    LOO = LeaveOneOut()\n",
    "    knn = KNeighborsClassifier(n_neighbors=5)\n",
    "    \n",
    "    for train_index, test_index in (LOO.split(X)):\n",
    "        X_train, X_test = X.iloc[train_index], X.iloc[test_index]\n",
    "        y_train, y_test = y.iloc[train_index], y.iloc[test_index]\n",
    "        knn.fit(X_train, y_train)\n",
    "        y_pred = knn.predict(X_test)\n",
    "        liste_data.append(y_pred)\n",
    "        \n",
    "    return liste_data"
   ]
  },
  {
   "cell_type": "code",
   "execution_count": 338,
   "metadata": {},
   "outputs": [
    {
     "name": "stdout",
     "output_type": "stream",
     "text": [
      "[array([0]), array([2]), array([0]), array([1]), array([2]), array([0]), array([1]), array([0]), array([0]), array([0]), array([0]), array([0]), array([0]), array([1]), array([1]), array([1]), array([0]), array([0]), array([1]), array([1]), array([0]), array([0]), array([0]), array([0]), array([0]), array([1]), array([0]), array([2]), array([0]), array([0]), array([0]), array([0]), array([0]), array([0]), array([1]), array([0]), array([0]), array([1]), array([1]), array([0]), array([0]), array([0]), array([0]), array([0]), array([0]), array([2]), array([1]), array([1]), array([0]), array([0]), array([2]), array([0]), array([0]), array([1]), array([0]), array([2]), array([0]), array([0]), array([1]), array([1]), array([0]), array([0]), array([0]), array([0]), array([1]), array([1]), array([0]), array([0]), array([1]), array([2]), array([0]), array([2]), array([0]), array([1]), array([1]), array([0]), array([1]), array([1]), array([0]), array([0]), array([1]), array([1]), array([1]), array([0]), array([0]), array([0]), array([0]), array([1]), array([1]), array([0]), array([1]), array([1]), array([2]), array([0]), array([1]), array([0]), array([0]), array([0]), array([1]), array([0]), array([0]), array([0]), array([2]), array([0]), array([2]), array([0]), array([0]), array([0]), array([0]), array([0]), array([0]), array([1]), array([1]), array([1]), array([0]), array([0]), array([2]), array([0]), array([1]), array([0]), array([0]), array([0]), array([0]), array([2]), array([0]), array([2]), array([0]), array([1]), array([0]), array([0]), array([0]), array([0]), array([0]), array([0]), array([0]), array([0]), array([0]), array([0]), array([1]), array([0]), array([1]), array([2]), array([0]), array([0]), array([0]), array([1]), array([0]), array([0]), array([0]), array([0]), array([0]), array([0]), array([0]), array([0]), array([0]), array([0]), array([2]), array([2]), array([0]), array([1]), array([0]), array([0]), array([1]), array([0]), array([0]), array([0]), array([1]), array([0]), array([2]), array([1]), array([0]), array([0]), array([1]), array([1]), array([0]), array([0]), array([0]), array([0]), array([0]), array([0]), array([2]), array([0]), array([0]), array([1]), array([0]), array([0]), array([1]), array([0]), array([1]), array([0]), array([1]), array([0]), array([0]), array([0]), array([0]), array([0]), array([0]), array([0]), array([1]), array([0]), array([0]), array([0]), array([1]), array([2]), array([1]), array([1]), array([1]), array([2]), array([1]), array([1]), array([0]), array([0]), array([1]), array([1]), array([0]), array([0]), array([0]), array([0]), array([2]), array([1]), array([0]), array([1]), array([0]), array([0]), array([1]), array([0]), array([1]), array([1]), array([1]), array([1]), array([0]), array([1]), array([1]), array([0]), array([0]), array([0]), array([0]), array([0]), array([2]), array([0]), array([1]), array([0]), array([0]), array([0]), array([1]), array([0]), array([1]), array([1]), array([0]), array([0]), array([0]), array([0]), array([0]), array([0]), array([2]), array([1]), array([1]), array([2]), array([2]), array([1]), array([0]), array([1]), array([0]), array([1]), array([0]), array([0]), array([0]), array([0]), array([0]), array([0]), array([1]), array([0]), array([0]), array([0]), array([1]), array([1]), array([1]), array([0]), array([1]), array([0]), array([0]), array([0]), array([0]), array([3]), array([0]), array([0]), array([1]), array([0]), array([1]), array([1]), array([0]), array([0]), array([1]), array([0]), array([2]), array([0]), array([2]), array([1]), array([2]), array([0]), array([0]), array([1]), array([0]), array([1]), array([2]), array([0]), array([0]), array([0]), array([2]), array([2]), array([0]), array([0]), array([2]), array([1]), array([0]), array([0]), array([0]), array([0]), array([1]), array([1]), array([0]), array([0]), array([0]), array([1]), array([0]), array([1]), array([0]), array([0]), array([2]), array([0]), array([0]), array([0]), array([0]), array([1]), array([1]), array([1]), array([1]), array([2]), array([1]), array([1]), array([1]), array([0]), array([0]), array([0]), array([0]), array([0]), array([1]), array([0]), array([0]), array([0]), array([2]), array([0]), array([0]), array([1]), array([1]), array([0]), array([0]), array([0]), array([1]), array([1]), array([1]), array([0]), array([0]), array([0]), array([1]), array([1]), array([1]), array([1]), array([2]), array([0]), array([0]), array([0]), array([0]), array([0]), array([0]), array([0]), array([1]), array([0]), array([0]), array([1]), array([1]), array([0]), array([0]), array([0]), array([0]), array([1]), array([1]), array([0]), array([0]), array([0]), array([0]), array([1]), array([0]), array([1]), array([0]), array([0]), array([2]), array([0]), array([0]), array([0]), array([0]), array([1]), array([1]), array([1]), array([1]), array([0]), array([0]), array([0]), array([0]), array([1]), array([0]), array([0]), array([0]), array([1]), array([0]), array([0]), array([1]), array([0]), array([0]), array([0]), array([2]), array([1]), array([0]), array([1]), array([0]), array([1]), array([2]), array([0]), array([1]), array([0]), array([0]), array([1]), array([0]), array([0]), array([0]), array([1]), array([0]), array([0]), array([1]), array([1]), array([1]), array([2]), array([0]), array([0]), array([1]), array([0]), array([1]), array([1]), array([1]), array([1]), array([1]), array([1]), array([0]), array([0]), array([0]), array([0]), array([2]), array([0]), array([0]), array([1]), array([1]), array([1]), array([2]), array([0]), array([1]), array([1]), array([1]), array([1]), array([0]), array([0]), array([0]), array([1]), array([1]), array([2]), array([0]), array([1]), array([0]), array([0]), array([2]), array([1]), array([1]), array([0]), array([0]), array([1]), array([0]), array([0]), array([0]), array([0]), array([1]), array([0]), array([0]), array([1]), array([1]), array([0]), array([2]), array([0]), array([1]), array([0]), array([0]), array([0]), array([0]), array([0]), array([1]), array([0]), array([1]), array([0]), array([1]), array([0]), array([2]), array([0]), array([0]), array([1]), array([0]), array([1]), array([0]), array([0]), array([1]), array([1]), array([0]), array([1]), array([1]), array([0]), array([0]), array([1]), array([0]), array([0]), array([0]), array([0]), array([0]), array([0]), array([0]), array([0]), array([0]), array([0]), array([0]), array([1]), array([2]), array([0]), array([1]), array([0]), array([2]), array([0]), array([1]), array([1]), array([1]), array([1]), array([1]), array([0]), array([1]), array([0]), array([0]), array([0]), array([0]), array([2]), array([0]), array([0]), array([1]), array([0]), array([2]), array([0]), array([1]), array([1]), array([1]), array([1]), array([1]), array([0]), array([0]), array([1]), array([0]), array([0]), array([1]), array([0]), array([0]), array([0]), array([0]), array([0]), array([0]), array([0]), array([0]), array([1]), array([1]), array([0]), array([0]), array([0]), array([2]), array([1]), array([0]), array([1]), array([0]), array([0]), array([0]), array([1]), array([1]), array([0]), array([1]), array([0]), array([1]), array([2]), array([0]), array([0]), array([1]), array([0]), array([0]), array([1]), array([0]), array([1]), array([0]), array([3]), array([1]), array([0]), array([1]), array([0]), array([1]), array([0]), array([0]), array([1]), array([1]), array([2]), array([0]), array([1]), array([1]), array([0]), array([2]), array([0]), array([0]), array([1]), array([0]), array([1]), array([0]), array([1]), array([1]), array([2]), array([0]), array([1]), array([1]), array([1]), array([0]), array([0]), array([0]), array([0]), array([0]), array([1]), array([0]), array([0]), array([0]), array([0]), array([0]), array([0]), array([1]), array([0]), array([1]), array([0]), array([2]), array([0]), array([0]), array([1]), array([2]), array([0]), array([0]), array([0]), array([0]), array([0]), array([2]), array([1]), array([0]), array([2]), array([0]), array([0]), array([0]), array([0]), array([1]), array([1]), array([1]), array([0]), array([0]), array([1]), array([1]), array([1]), array([1]), array([0]), array([2]), array([0]), array([0]), array([0]), array([0]), array([0]), array([2]), array([0]), array([1]), array([1]), array([2]), array([0]), array([0]), array([0]), array([1]), array([1]), array([1]), array([1]), array([1]), array([0]), array([1]), array([1]), array([1]), array([1]), array([0]), array([2]), array([0]), array([0]), array([0]), array([0]), array([0]), array([0]), array([1]), array([0]), array([0]), array([1]), array([0]), array([0]), array([1]), array([0]), array([0]), array([0]), array([0]), array([0]), array([0]), array([0]), array([0]), array([0]), array([0]), array([0]), array([2]), array([1]), array([0]), array([0]), array([0]), array([0]), array([0]), array([1]), array([2]), array([0]), array([0]), array([0]), array([0]), array([0]), array([0]), array([0]), array([1]), array([1]), array([0]), array([1]), array([0]), array([2]), array([0]), array([1]), array([0]), array([1]), array([1]), array([1]), array([0]), array([1]), array([0]), array([0]), array([0]), array([0]), array([0]), array([2]), array([0]), array([0]), array([1]), array([0]), array([0]), array([0]), array([0]), array([1]), array([0]), array([0]), array([0]), array([0]), array([2]), array([0]), array([0]), array([1]), array([3]), array([1]), array([0]), array([0]), array([0]), array([0]), array([1]), array([0]), array([1]), array([1]), array([1]), array([0]), array([0]), array([1]), array([0]), array([1]), array([0]), array([0]), array([0]), array([0]), array([0]), array([0]), array([0]), array([0]), array([0]), array([0]), array([0]), array([1]), array([1]), array([0]), array([0]), array([1]), array([0]), array([1]), array([0]), array([0]), array([2]), array([0]), array([0]), array([1]), array([0]), array([1]), array([1]), array([0]), array([0]), array([0]), array([0]), array([2]), array([0]), array([1]), array([0]), array([0]), array([2]), array([0]), array([0]), array([0]), array([0]), array([0]), array([0]), array([0]), array([1]), array([1]), array([0]), array([2]), array([1]), array([1]), array([1]), array([1]), array([1]), array([1]), array([2]), array([0]), array([1]), array([0]), array([0]), array([0]), array([0]), array([0]), array([1]), array([1]), array([0]), array([2]), array([0]), array([1]), array([0]), array([1]), array([0]), array([0]), array([0]), array([0]), array([0]), array([1]), array([0]), array([1]), array([1]), array([1]), array([0]), array([1]), array([0]), array([1]), array([0]), array([1]), array([1]), array([0]), array([0]), array([0]), array([0]), array([0]), array([0]), array([0]), array([0]), array([1]), array([1]), array([1]), array([0]), array([1]), array([1]), array([2]), array([0]), array([1]), array([0]), array([1]), array([1]), array([0]), array([1]), array([1]), array([0]), array([0]), array([1]), array([0]), array([0]), array([1]), array([0]), array([0]), array([0]), array([0]), array([0]), array([0]), array([1]), array([0]), array([0]), array([1]), array([0]), array([1]), array([0]), array([1]), array([1]), array([0]), array([0]), array([0]), array([0]), array([1]), array([1]), array([0]), array([0]), array([0]), array([1]), array([1]), array([0]), array([1]), array([2]), array([0]), array([0]), array([1]), array([0]), array([0]), array([1]), array([1]), array([0]), array([0]), array([2]), array([0]), array([1]), array([0]), array([0]), array([1]), array([0]), array([1]), array([1]), array([1]), array([1]), array([2]), array([0]), array([0]), array([0]), array([1]), array([1]), array([1]), array([0]), array([1]), array([0]), array([1]), array([0]), array([1]), array([0]), array([1]), array([1]), array([2]), array([0]), array([0]), array([0]), array([1]), array([2]), array([0]), array([0]), array([0]), array([1]), array([1]), array([0]), array([0]), array([0]), array([0]), array([0]), array([0]), array([0]), array([0]), array([0]), array([1]), array([0]), array([1]), array([1]), array([0]), array([0]), array([1]), array([2]), array([0]), array([0]), array([0]), array([1]), array([0]), array([0]), array([1]), array([0]), array([1]), array([0]), array([0]), array([0]), array([0]), array([1]), array([0]), array([0]), array([0]), array([0]), array([2]), array([0]), array([0]), array([0]), array([0]), array([1]), array([0]), array([0]), array([0]), array([0]), array([0]), array([1]), array([0]), array([0]), array([0]), array([0]), array([1]), array([0]), array([2]), array([2]), array([0]), array([0]), array([1]), array([0]), array([1]), array([0]), array([0]), array([1]), array([0]), array([0]), array([0]), array([1]), array([2]), array([0]), array([0]), array([0]), array([1]), array([0]), array([0]), array([0]), array([1]), array([1]), array([0]), array([0]), array([1]), array([0]), array([0]), array([1]), array([0]), array([0]), array([2]), array([2]), array([1]), array([2]), array([0]), array([1]), array([1]), array([1]), array([0]), array([0]), array([1]), array([0]), array([1]), array([0]), array([2]), array([0]), array([1]), array([1]), array([0]), array([0]), array([0]), array([1]), array([2]), array([1]), array([1]), array([0]), array([2]), array([0]), array([0]), array([0]), array([1]), array([1]), array([1]), array([0]), array([0]), array([1]), array([0]), array([0]), array([0]), array([0]), array([1]), array([1]), array([0]), array([0]), array([1]), array([1]), array([0]), array([1]), array([0]), array([0]), array([0]), array([0]), array([0]), array([0]), array([0]), array([0]), array([1]), array([0]), array([1]), array([1]), array([2]), array([1]), array([0]), array([1]), array([2]), array([0]), array([1]), array([2]), array([0]), array([0]), array([1]), array([0]), array([2]), array([1]), array([0]), array([1]), array([0]), array([1]), array([0]), array([1]), array([0]), array([0]), array([0]), array([1]), array([1]), array([0]), array([0]), array([1]), array([0]), array([0]), array([0]), array([0]), array([0]), array([0]), array([0]), array([2]), array([1]), array([0]), array([0]), array([0]), array([1]), array([1]), array([2]), array([1]), array([0]), array([1]), array([0]), array([1]), array([1]), array([0]), array([1]), array([0]), array([0]), array([1]), array([0]), array([1]), array([1]), array([1]), array([1]), array([0]), array([0]), array([0]), array([0]), array([0]), array([0]), array([0]), array([1]), array([2]), array([1]), array([0]), array([1]), array([0]), array([0]), array([0]), array([0]), array([1]), array([3]), array([0]), array([1]), array([0]), array([0]), array([0]), array([0]), array([1]), array([0]), array([1]), array([1]), array([1]), array([2]), array([1]), array([0]), array([1]), array([0]), array([0]), array([0]), array([0]), array([2]), array([1]), array([0]), array([2]), array([0]), array([2]), array([1]), array([1]), array([0]), array([1]), array([0]), array([1]), array([0]), array([1]), array([1]), array([0]), array([2]), array([1]), array([1]), array([1]), array([0]), array([1]), array([0]), array([2]), array([0]), array([0]), array([1]), array([0]), array([1]), array([2]), array([0]), array([1]), array([1]), array([0]), array([0]), array([2]), array([2]), array([0]), array([0]), array([1]), array([0]), array([2]), array([2]), array([0]), array([1]), array([0]), array([0]), array([1]), array([0]), array([0]), array([0]), array([0]), array([0]), array([1]), array([1]), array([1]), array([2]), array([0]), array([1]), array([0]), array([0]), array([0]), array([0]), array([1]), array([0]), array([0]), array([0]), array([0]), array([0]), array([1]), array([0]), array([0]), array([0]), array([0]), array([0]), array([0]), array([0]), array([2]), array([0]), array([2]), array([0]), array([0]), array([1]), array([0]), array([2]), array([1]), array([1]), array([1]), array([1]), array([1]), array([2]), array([2]), array([1]), array([1]), array([0]), array([0]), array([1]), array([0]), array([1]), array([0]), array([0]), array([0]), array([0]), array([1]), array([1]), array([0]), array([2]), array([1]), array([1]), array([0]), array([0]), array([0]), array([2]), array([0]), array([0]), array([1]), array([0]), array([0]), array([1]), array([0]), array([0]), array([0]), array([0]), array([2]), array([1]), array([0]), array([2]), array([2]), array([1]), array([1]), array([0]), array([0]), array([1]), array([0]), array([0]), array([0]), array([0]), array([2]), array([1]), array([0]), array([0]), array([0]), array([0]), array([1]), array([0]), array([0]), array([0]), array([1]), array([1]), array([0]), array([0]), array([1]), array([0]), array([0]), array([1]), array([1]), array([0]), array([0]), array([1]), array([0]), array([1]), array([0]), array([2]), array([2]), array([0]), array([1]), array([1]), array([1]), array([1]), array([0]), array([0]), array([0]), array([1]), array([0]), array([1]), array([1]), array([0]), array([1]), array([1]), array([1]), array([0]), array([2]), array([0]), array([0]), array([0]), array([0]), array([0]), array([1]), array([2]), array([0]), array([0]), array([0]), array([0]), array([0]), array([1]), array([2]), array([0]), array([0]), array([0]), array([0]), array([0]), array([0]), array([0]), array([1]), array([0]), array([0]), array([0]), array([1]), array([0]), array([1]), array([0]), array([0]), array([1]), array([1]), array([0]), array([1]), array([1]), array([1]), array([0]), array([0]), array([0]), array([0]), array([1]), array([0]), array([0]), array([0]), array([0]), array([0]), array([0]), array([0]), array([1]), array([2]), array([0]), array([0]), array([0]), array([1]), array([0]), array([0]), array([0]), array([0]), array([0]), array([2]), array([0]), array([0]), array([2]), array([1]), array([0]), array([2]), array([0]), array([1]), array([2]), array([0]), array([0]), array([0]), array([0]), array([1]), array([0]), array([1]), array([2]), array([3]), array([1]), array([0]), array([1]), array([1]), array([1]), array([1]), array([0]), array([1]), array([2]), array([2]), array([0]), array([1]), array([1]), array([0]), array([1]), array([0]), array([0]), array([0]), array([0]), array([0]), array([1]), array([1]), array([0]), array([0]), array([1]), array([0]), array([2]), array([1]), array([0]), array([0]), array([1]), array([1]), array([0]), array([2]), array([0]), array([1]), array([0]), array([1]), array([1]), array([0]), array([0]), array([2]), array([1]), array([0]), array([2]), array([1]), array([1]), array([2]), array([0]), array([1]), array([0]), array([0]), array([0]), array([0]), array([0]), array([2]), array([2]), array([0]), array([0]), array([0]), array([1]), array([1]), array([0]), array([0]), array([1]), array([0]), array([0]), array([1]), array([0]), array([1]), array([0]), array([1]), array([0]), array([0]), array([1]), array([0]), array([1]), array([0]), array([0]), array([1]), array([1]), array([0]), array([0]), array([1]), array([1]), array([1]), array([0]), array([1]), array([1]), array([0]), array([0]), array([2]), array([0]), array([0]), array([2]), array([0]), array([0]), array([0]), array([0]), array([1]), array([1]), array([0]), array([1]), array([1]), array([1]), array([1]), array([1]), array([0]), array([1]), array([1]), array([0]), array([2]), array([0]), array([0]), array([0]), array([0]), array([1]), array([1]), array([0]), array([0]), array([0]), array([1]), array([0]), array([1]), array([0]), array([0]), array([1]), array([1]), array([0]), array([1]), array([1]), array([1]), array([2]), array([1]), array([1]), array([1]), array([2]), array([0]), array([1]), array([0]), array([0]), array([0]), array([0]), array([2]), array([0]), array([0]), array([0]), array([0]), array([0]), array([1]), array([1]), array([0]), array([1]), array([1]), array([0]), array([1]), array([0]), array([1]), array([0]), array([0]), array([0]), array([0]), array([0]), array([0]), array([0]), array([1]), array([0]), array([0]), array([1]), array([0]), array([0]), array([0]), array([0]), array([2]), array([1]), array([0]), array([0]), array([1]), array([0]), array([1]), array([1]), array([0]), array([0]), array([0]), array([0]), array([2]), array([0]), array([1]), array([0]), array([0]), array([1]), array([0]), array([0]), array([1]), array([1]), array([0]), array([1]), array([1]), array([0]), array([0]), array([1]), array([1]), array([1]), array([2]), array([1]), array([1]), array([2]), array([1]), array([0]), array([1]), array([1]), array([0]), array([0]), array([0]), array([0]), array([1]), array([0]), array([1]), array([2]), array([0]), array([0]), array([0]), array([1]), array([0]), array([0]), array([0]), array([1]), array([0]), array([1]), array([1]), array([1]), array([0]), array([0]), array([1]), array([1]), array([0]), array([1]), array([0]), array([0]), array([1]), array([0]), array([0]), array([0]), array([1]), array([0]), array([1]), array([1]), array([1]), array([1]), array([0]), array([1]), array([0]), array([1]), array([1]), array([1]), array([1]), array([1]), array([1]), array([1]), array([2]), array([1]), array([1]), array([0]), array([1]), array([0]), array([1]), array([1]), array([0]), array([0]), array([1]), array([1]), array([0]), array([0]), array([0]), array([0]), array([0]), array([0]), array([1]), array([1]), array([0]), array([2]), array([0]), array([2]), array([0]), array([0]), array([0]), array([0]), array([0]), array([0]), array([0]), array([0]), array([1]), array([0]), array([1]), array([0]), array([1]), array([0]), array([1]), array([1]), array([0]), array([1]), array([0]), array([0]), array([0]), array([0]), array([1]), array([0]), array([0]), array([0]), array([2]), array([0]), array([0]), array([0]), array([0]), array([0]), array([2]), array([1]), array([1]), array([1]), array([0]), array([0]), array([1]), array([2]), array([1]), array([0]), array([0]), array([0]), array([0]), array([2]), array([0]), array([0]), array([0]), array([2]), array([0]), array([1]), array([1]), array([0]), array([0]), array([0]), array([1]), array([1]), array([0]), array([2]), array([0]), array([0]), array([0]), array([0]), array([2]), array([0]), array([1]), array([0]), array([0]), array([0]), array([0]), array([1]), array([0]), array([1]), array([1]), array([1]), array([0]), array([0]), array([1]), array([1]), array([0]), array([1]), array([1]), array([1]), array([1]), array([0]), array([1]), array([0]), array([1]), array([0]), array([1]), array([0]), array([0]), array([0]), array([0]), array([0]), array([0]), array([0]), array([1]), array([2]), array([1]), array([2]), array([1]), array([1]), array([0]), array([0]), array([2]), array([0]), array([0]), array([1]), array([0]), array([1]), array([0]), array([2]), array([1]), array([0]), array([0]), array([1]), array([1]), array([0]), array([0]), array([1]), array([0]), array([0]), array([0]), array([1]), array([2]), array([2]), array([0]), array([0]), array([1]), array([1]), array([0]), array([0]), array([1]), array([1]), array([0]), array([2]), array([0]), array([0]), array([1]), array([0]), array([0]), array([0]), array([1]), array([0]), array([0]), array([1]), array([0]), array([1]), array([0]), array([0]), array([0]), array([1]), array([2]), array([1]), array([0]), array([1]), array([0]), array([0]), array([0]), array([0]), array([0]), array([1]), array([2]), array([0]), array([0]), array([0]), array([1]), array([0]), array([0]), array([1]), array([0]), array([0]), array([0]), array([0]), array([1]), array([1]), array([1]), array([0]), array([1]), array([0]), array([0]), array([2]), array([1]), array([1]), array([0]), array([0]), array([1]), array([0]), array([0]), array([0]), array([0]), array([0]), array([1]), array([1]), array([1]), array([1]), array([0]), array([1]), array([1]), array([0]), array([0]), array([1]), array([1]), array([1]), array([0]), array([0]), array([1]), array([1]), array([0]), array([1]), array([0]), array([0]), array([0]), array([0]), array([0]), array([3]), array([2]), array([1]), array([0]), array([0]), array([0]), array([1]), array([0]), array([0]), array([2]), array([1]), array([0]), array([0]), array([1]), array([1]), array([0]), array([0]), array([1]), array([1]), array([1]), array([0]), array([0]), array([2]), array([0]), array([0]), array([0]), array([0]), array([0]), array([1]), array([1]), array([1]), array([0]), array([0]), array([2]), array([0]), array([0]), array([0]), array([1]), array([0]), array([2]), array([1]), array([1]), array([0]), array([1]), array([1]), array([0]), array([0]), array([0]), array([0]), array([2]), array([1]), array([1]), array([1]), array([1]), array([0]), array([1]), array([0]), array([2]), array([1]), array([0]), array([1]), array([0]), array([1]), array([0]), array([0]), array([0]), array([0]), array([0]), array([0]), array([1]), array([1]), array([1]), array([1]), array([0]), array([1]), array([0]), array([0]), array([1]), array([1]), array([1]), array([1]), array([0]), array([0]), array([0]), array([0]), array([0]), array([0]), array([1]), array([1]), array([1]), array([0]), array([1]), array([1]), array([1]), array([0]), array([0]), array([1]), array([1]), array([0]), array([1]), array([1]), array([1]), array([0]), array([1]), array([0]), array([0]), array([1]), array([0]), array([1]), array([0]), array([1]), array([1]), array([1]), array([0]), array([1]), array([3]), array([3]), array([0]), array([1]), array([0]), array([0]), array([0]), array([1]), array([1]), array([1]), array([0]), array([1]), array([0]), array([1]), array([0]), array([0]), array([0]), array([0]), array([1]), array([1]), array([0]), array([1]), array([0]), array([0]), array([0]), array([0]), array([0]), array([0]), array([1]), array([0]), array([0]), array([0]), array([0]), array([1]), array([1]), array([0]), array([0]), array([1]), array([0]), array([2]), array([0]), array([0]), array([1]), array([2]), array([0]), array([0]), array([0]), array([0]), array([2]), array([1]), array([1]), array([0]), array([2]), array([2]), array([0]), array([2]), array([1]), array([0]), array([1]), array([1]), array([0]), array([0]), array([0]), array([1]), array([2]), array([1]), array([0]), array([1]), array([0]), array([0]), array([1]), array([1]), array([0]), array([2]), array([0]), array([0]), array([1]), array([0]), array([1]), array([0]), array([1]), array([1]), array([1]), array([0]), array([1]), array([0]), array([1]), array([1]), array([0]), array([0]), array([0]), array([1]), array([0]), array([2]), array([0]), array([0]), array([0]), array([2]), array([0]), array([0]), array([0]), array([0]), array([1]), array([0]), array([0]), array([0]), array([0]), array([0]), array([0]), array([2]), array([0]), array([0]), array([1]), array([1]), array([0]), array([0]), array([0]), array([1]), array([1]), array([0]), array([0]), array([0]), array([0]), array([2]), array([0]), array([0]), array([0]), array([0]), array([0]), array([2]), array([0]), array([0]), array([0]), array([1]), array([0]), array([2]), array([2]), array([1]), array([0]), array([1]), array([0]), array([0]), array([1]), array([0]), array([0]), array([0]), array([0]), array([0]), array([2]), array([1]), array([0]), array([0]), array([0]), array([0]), array([1]), array([1]), array([2]), array([1]), array([1]), array([1]), array([0]), array([0]), array([1]), array([0]), array([0]), array([0]), array([0]), array([2]), array([1]), array([0]), array([0]), array([2]), array([0]), array([1]), array([1]), array([0]), array([1]), array([1]), array([0]), array([1]), array([0]), array([0]), array([0]), array([2]), array([0]), array([0]), array([0]), array([1]), array([1]), array([1]), array([0]), array([0]), array([0]), array([0]), array([0]), array([0]), array([2]), array([2]), array([1]), array([0]), array([2]), array([0]), array([0]), array([0]), array([0]), array([2]), array([2]), array([1]), array([0]), array([1]), array([1]), array([0]), array([1]), array([0]), array([0]), array([0]), array([2]), array([0]), array([1]), array([1]), array([0]), array([0]), array([0]), array([2]), array([0]), array([1]), array([1]), array([1]), array([1]), array([0]), array([0]), array([1]), array([0]), array([0]), array([0]), array([1]), array([0]), array([0]), array([0]), array([0]), array([0]), array([1]), array([0]), array([0]), array([1]), array([0]), array([0]), array([0]), array([0]), array([0]), array([1]), array([2]), array([0]), array([0]), array([1]), array([0]), array([0]), array([1]), array([1]), array([0]), array([0]), array([0]), array([0]), array([1]), array([0]), array([1]), array([0]), array([1]), array([1]), array([1]), array([1]), array([0]), array([1]), array([1]), array([0]), array([2]), array([0]), array([0]), array([2]), array([0]), array([0]), array([0]), array([3]), array([0]), array([1]), array([0]), array([0]), array([2]), array([1]), array([0]), array([0]), array([2]), array([0]), array([0]), array([1]), array([0]), array([2]), array([0]), array([0]), array([0]), array([1]), array([2]), array([0]), array([0]), array([0]), array([1]), array([0]), array([0]), array([1]), array([0]), array([0]), array([0]), array([0]), array([1]), array([0]), array([0]), array([0]), array([0]), array([0]), array([0]), array([1]), array([0]), array([1]), array([0]), array([0]), array([0]), array([0]), array([2]), array([0]), array([1]), array([0]), array([2]), array([0]), array([2]), array([0]), array([0]), array([0]), array([1]), array([0]), array([1]), array([1]), array([0]), array([2]), array([0]), array([1]), array([0]), array([1]), array([1]), array([0]), array([1]), array([0]), array([1]), array([1]), array([0]), array([1]), array([1]), array([0]), array([0]), array([1]), array([1]), array([1]), array([1]), array([1]), array([0]), array([0]), array([1]), array([1]), array([2]), array([1]), array([1]), array([1]), array([0]), array([0]), array([1]), array([2]), array([0]), array([1]), array([0]), array([1]), array([0]), array([0]), array([0]), array([2]), array([1]), array([1]), array([1]), array([0]), array([0]), array([0]), array([0]), array([0]), array([0]), array([0]), array([0]), array([0]), array([0]), array([0]), array([0]), array([0]), array([1]), array([0]), array([0]), array([1]), array([0]), array([0]), array([1]), array([0]), array([0]), array([1]), array([1]), array([0]), array([0]), array([0]), array([0]), array([0]), array([0]), array([2]), array([1]), array([0]), array([0]), array([2]), array([0]), array([0]), array([1]), array([0]), array([1]), array([1]), array([0]), array([0]), array([0]), array([0]), array([0]), array([0]), array([1]), array([1]), array([2]), array([0]), array([0]), array([0]), array([0]), array([0]), array([0]), array([0]), array([1]), array([0]), array([0]), array([0]), array([1]), array([1]), array([0]), array([0]), array([0]), array([2]), array([0]), array([2]), array([1]), array([2]), array([0]), array([0]), array([0]), array([0]), array([1]), array([1]), array([0]), array([2]), array([1]), array([2]), array([0]), array([0]), array([1]), array([0]), array([0]), array([0]), array([0]), array([0]), array([0]), array([0]), array([1]), array([1]), array([0]), array([1]), array([1]), array([2]), array([0]), array([0]), array([1]), array([0]), array([0]), array([1]), array([0]), array([0]), array([0]), array([0]), array([0]), array([1]), array([0]), array([0]), array([1]), array([0]), array([0]), array([1]), array([0]), array([0]), array([1]), array([0]), array([2]), array([1]), array([0]), array([0]), array([2]), array([1]), array([0]), array([0]), array([1]), array([0]), array([0]), array([2]), array([0]), array([0]), array([1]), array([1]), array([0]), array([1]), array([1]), array([1]), array([0]), array([0]), array([0]), array([0]), array([1]), array([0]), array([1]), array([0]), array([1]), array([1]), array([2]), array([1]), array([1]), array([2]), array([0]), array([0]), array([1]), array([0]), array([1]), array([2]), array([0]), array([1]), array([0]), array([0]), array([2]), array([0]), array([0]), array([0]), array([0]), array([0]), array([0]), array([1]), array([0]), array([1]), array([1]), array([0]), array([1]), array([1]), array([1]), array([1]), array([1]), array([1]), array([0]), array([1]), array([1]), array([0]), array([0]), array([0]), array([2]), array([1]), array([0]), array([0]), array([0]), array([0]), array([0]), array([1]), array([0]), array([0]), array([1]), array([0]), array([3]), array([0]), array([0]), array([0]), array([0]), array([0]), array([0]), array([1]), array([2]), array([0]), array([2]), array([0]), array([0]), array([1]), array([0]), array([0]), array([0]), array([1]), array([0]), array([0]), array([0]), array([0]), array([0]), array([1]), array([1]), array([0]), array([1]), array([1]), array([2]), array([0]), array([0]), array([1]), array([0]), array([0]), array([0]), array([0]), array([1]), array([0]), array([0]), array([1]), array([1]), array([1]), array([0]), array([0]), array([3]), array([1]), array([1]), array([2]), array([0]), array([0]), array([1]), array([1]), array([2]), array([0]), array([0]), array([0]), array([0]), array([1]), array([1]), array([0]), array([0]), array([0]), array([1]), array([1]), array([0]), array([1]), array([3]), array([2]), array([0]), array([1]), array([2]), array([2]), array([1]), array([0]), array([1]), array([0]), array([0]), array([1]), array([0]), array([1]), array([2]), array([0]), array([0]), array([0]), array([3]), array([1]), array([0]), array([1]), array([1]), array([1]), array([0]), array([1]), array([1]), array([0]), array([0]), array([2]), array([1]), array([2]), array([0]), array([0]), array([0]), array([0]), array([0]), array([0]), array([0]), array([0]), array([1]), array([1]), array([1]), array([1]), array([0]), array([0]), array([0]), array([0]), array([0]), array([3]), array([0]), array([0]), array([1]), array([1]), array([2]), array([0]), array([0]), array([1]), array([0]), array([3]), array([1]), array([1]), array([0]), array([1]), array([1]), array([2]), array([0]), array([0]), array([1]), array([1]), array([0]), array([0]), array([0]), array([0]), array([1]), array([0]), array([1]), array([1]), array([0]), array([1]), array([1]), array([0]), array([1]), array([2]), array([0]), array([0]), array([0]), array([2]), array([0]), array([2]), array([2]), array([2]), array([1]), array([1]), array([0]), array([1]), array([0]), array([0]), array([0]), array([2]), array([0]), array([0]), array([2]), array([1]), array([2]), array([0]), array([0]), array([1]), array([1]), array([0]), array([2]), array([0]), array([0]), array([1]), array([0]), array([1]), array([0]), array([1]), array([2]), array([1]), array([0]), array([2]), array([0]), array([0]), array([2]), array([1]), array([0]), array([1]), array([2]), array([0]), array([0]), array([0]), array([1]), array([1]), array([0]), array([1]), array([2]), array([0]), array([0]), array([2]), array([1]), array([2]), array([0]), array([1]), array([1]), array([1]), array([0]), array([0]), array([1]), array([0]), array([0]), array([1]), array([2]), array([0]), array([0]), array([0]), array([0]), array([0]), array([1]), array([1]), array([1]), array([0]), array([0]), array([1]), array([2]), array([1]), array([1]), array([2]), array([0]), array([0]), array([0]), array([1]), array([0]), array([0]), array([1]), array([2]), array([1]), array([1]), array([1]), array([1]), array([1]), array([0]), array([0]), array([1]), array([1]), array([0]), array([0]), array([0]), array([1]), array([0]), array([1]), array([0]), array([1]), array([1]), array([0]), array([0]), array([2]), array([0]), array([0]), array([0]), array([1]), array([2]), array([0]), array([0]), array([2]), array([0]), array([0]), array([0]), array([1]), array([1]), array([2]), array([0]), array([0]), array([2]), array([1]), array([1]), array([0]), array([0]), array([0]), array([2]), array([1]), array([0]), array([0]), array([1]), array([0]), array([2]), array([1]), array([2]), array([0]), array([0]), array([0]), array([0]), array([0]), array([1]), array([0]), array([0]), array([2]), array([2]), array([0]), array([2]), array([0]), array([1]), array([1]), array([1]), array([2]), array([0]), array([0]), array([0]), array([0]), array([0]), array([0]), array([0]), array([0]), array([0]), array([0]), array([0]), array([0]), array([0]), array([0]), array([0]), array([0]), array([1]), array([2]), array([0]), array([0]), array([0]), array([0]), array([0]), array([0]), array([1]), array([1]), array([1]), array([0]), array([1]), array([1]), array([0]), array([1]), array([0]), array([0]), array([1]), array([0]), array([1]), array([0]), array([0]), array([0]), array([0]), array([1]), array([0]), array([0]), array([0]), array([1]), array([0]), array([0]), array([0]), array([1]), array([0]), array([0]), array([0]), array([2]), array([1]), array([0]), array([2]), array([0]), array([1]), array([0]), array([0]), array([0]), array([0]), array([1]), array([0]), array([2]), array([0]), array([0]), array([1]), array([0]), array([1]), array([0]), array([0]), array([0]), array([2]), array([1]), array([0]), array([2]), array([1]), array([1]), array([1]), array([1]), array([2]), array([0]), array([2]), array([1]), array([0]), array([0]), array([0]), array([0]), array([0]), array([1]), array([0]), array([1]), array([0]), array([0]), array([1]), array([0]), array([0]), array([1]), array([0]), array([2]), array([1]), array([1]), array([1]), array([0]), array([0]), array([0]), array([0]), array([2]), array([0]), array([1]), array([0]), array([1]), array([0]), array([1]), array([0]), array([0]), array([2]), array([1]), array([1]), array([0]), array([0]), array([0]), array([1]), array([0]), array([0]), array([1]), array([0]), array([1]), array([0]), array([2]), array([0]), array([0]), array([0]), array([1]), array([0]), array([1]), array([0]), array([1]), array([0]), array([1]), array([0]), array([1]), array([2]), array([1]), array([1]), array([1]), array([0]), array([0]), array([1]), array([1]), array([1]), array([0]), array([0]), array([0]), array([1]), array([0]), array([1]), array([1]), array([0]), array([0]), array([0]), array([0]), array([1]), array([0]), array([0]), array([0]), array([1]), array([1]), array([0]), array([1]), array([1]), array([0]), array([0]), array([0]), array([0]), array([1]), array([2]), array([2]), array([1]), array([1]), array([0]), array([0]), array([0]), array([0]), array([1]), array([1]), array([0]), array([0]), array([0]), array([0]), array([1]), array([1]), array([1]), array([0]), array([2]), array([0]), array([0]), array([0]), array([1]), array([0]), array([2]), array([1]), array([0]), array([1]), array([0]), array([2]), array([1]), array([0]), array([0]), array([1]), array([1]), array([0]), array([0]), array([0]), array([0]), array([1]), array([0]), array([0]), array([0]), array([0]), array([0]), array([2]), array([0]), array([0]), array([0]), array([2]), array([0]), array([0]), array([0]), array([2]), array([2]), array([0]), array([1]), array([1]), array([0]), array([1]), array([0]), array([0]), array([2]), array([2]), array([0]), array([0]), array([1]), array([1]), array([0]), array([1]), array([0]), array([0]), array([0]), array([0]), array([2]), array([0]), array([1]), array([0]), array([0]), array([1]), array([1]), array([1]), array([2]), array([1]), array([0]), array([1]), array([1]), array([0]), array([1]), array([0]), array([0]), array([0]), array([1]), array([1]), array([1]), array([1]), array([0]), array([0]), array([1]), array([0]), array([2]), array([0]), array([0]), array([0]), array([0]), array([0]), array([0]), array([0]), array([0]), array([0]), array([1]), array([0]), array([0]), array([0]), array([0]), array([0]), array([2]), array([0]), array([0]), array([0]), array([2]), array([2]), array([0]), array([2]), array([0]), array([0]), array([0]), array([1]), array([0]), array([0]), array([0]), array([0]), array([1]), array([0]), array([1]), array([1]), array([0]), array([1]), array([2]), array([1]), array([0]), array([0]), array([1]), array([1]), array([1]), array([1]), array([0]), array([2]), array([0]), array([0]), array([2]), array([0]), array([1]), array([0]), array([1]), array([0]), array([1]), array([0]), array([0]), array([2]), array([0]), array([1]), array([0]), array([1]), array([1]), array([2]), array([1]), array([0]), array([2]), array([1]), array([1]), array([0]), array([2]), array([0]), array([2]), array([0]), array([1]), array([0]), array([0]), array([1]), array([1]), array([0]), array([2]), array([0]), array([1]), array([0]), array([0]), array([2]), array([1]), array([0]), array([0]), array([0]), array([1]), array([2]), array([0]), array([0]), array([0]), array([0]), array([0]), array([1]), array([1]), array([0]), array([1]), array([0]), array([0]), array([1]), array([0]), array([0]), array([0]), array([0]), array([1]), array([1]), array([0]), array([1]), array([0]), array([0]), array([1]), array([1]), array([0]), array([1]), array([0]), array([1]), array([1]), array([1]), array([1]), array([2]), array([1]), array([1]), array([0]), array([1]), array([0]), array([0]), array([0]), array([0]), array([1]), array([0]), array([2]), array([0]), array([0]), array([0]), array([0]), array([0]), array([1]), array([0]), array([1]), array([0]), array([0]), array([1]), array([0]), array([1]), array([1]), array([0]), array([0]), array([2]), array([0]), array([1]), array([0]), array([0]), array([0]), array([2]), array([0]), array([1]), array([1]), array([0]), array([0]), array([1]), array([1]), array([3]), array([1]), array([1]), array([0]), array([0]), array([0]), array([1]), array([0]), array([2]), array([1]), array([1]), array([0]), array([1]), array([1]), array([0]), array([1]), array([1]), array([0]), array([0]), array([1]), array([0]), array([1]), array([1]), array([0]), array([0]), array([1]), array([1]), array([1]), array([1]), array([0]), array([0]), array([0]), array([0]), array([0]), array([0]), array([0]), array([0]), array([0]), array([1]), array([2]), array([2]), array([0]), array([1]), array([1]), array([2]), array([0]), array([0]), array([0]), array([0]), array([1]), array([1]), array([1]), array([0]), array([1]), array([1]), array([1]), array([0]), array([0]), array([2]), array([1]), array([0]), array([0]), array([1]), array([0]), array([1]), array([1]), array([0]), array([1]), array([0]), array([2]), array([2]), array([0]), array([0]), array([0]), array([1]), array([0]), array([0]), array([1]), array([1]), array([1]), array([2]), array([0]), array([0]), array([1]), array([0]), array([0]), array([1]), array([0]), array([1]), array([0]), array([0]), array([1]), array([1]), array([0]), array([0]), array([1]), array([0]), array([0]), array([0]), array([1]), array([1]), array([1]), array([0]), array([0]), array([0]), array([0]), array([0]), array([0]), array([0]), array([1]), array([1]), array([2]), array([0]), array([0]), array([0]), array([1]), array([1]), array([1]), array([0]), array([0]), array([0]), array([1]), array([0]), array([1]), array([1]), array([1]), array([1]), array([0]), array([1]), array([0]), array([1]), array([1]), array([0]), array([0]), array([2]), array([0]), array([0]), array([0]), array([0]), array([0]), array([1]), array([0]), array([0]), array([0]), array([0]), array([1]), array([2]), array([0]), array([0]), array([2]), array([0]), array([0]), array([0]), array([0]), array([1]), array([0]), array([1]), array([1]), array([0]), array([1]), array([0]), array([0]), array([0]), array([0]), array([0]), array([0]), array([1]), array([0]), array([1]), array([0]), array([0]), array([0]), array([1]), array([2]), array([0]), array([1]), array([2]), array([2]), array([1]), array([0]), array([0]), array([0]), array([0]), array([1]), array([1]), array([2]), array([0]), array([0]), array([0]), array([1]), array([1]), array([0]), array([1]), array([0]), array([0]), array([0]), array([1]), array([0]), array([0]), array([1]), array([1]), array([1]), array([0]), array([0]), array([0]), array([0]), array([2]), array([0]), array([0]), array([0]), array([1]), array([1]), array([0]), array([0]), array([0]), array([1]), array([0]), array([0]), array([0]), array([1]), array([1]), array([0]), array([0]), array([0]), array([1]), array([0]), array([0]), array([1]), array([1]), array([0]), array([0]), array([0]), array([0]), array([2]), array([1]), array([1]), array([0]), array([0]), array([0]), array([2]), array([0]), array([2]), array([2]), array([2]), array([1]), array([2]), array([0]), array([1]), array([0]), array([0]), array([0]), array([0]), array([1]), array([1]), array([0]), array([0]), array([0]), array([1]), array([0]), array([0]), array([0]), array([1]), array([0]), array([0]), array([0]), array([0]), array([0]), array([2]), array([0]), array([0]), array([0]), array([1]), array([0]), array([1]), array([1]), array([2]), array([0]), array([0]), array([1]), array([0]), array([0]), array([0]), array([0]), array([0]), array([1]), array([0]), array([0]), array([1]), array([0]), array([0]), array([0]), array([0]), array([0]), array([0]), array([0]), array([0]), array([0]), array([1]), array([1]), array([0]), array([1]), array([0]), array([0]), array([0]), array([0]), array([0]), array([2]), array([1]), array([2]), array([0]), array([0]), array([0]), array([1]), array([0]), array([0]), array([0]), array([0]), array([0]), array([1]), array([0]), array([0]), array([2]), array([1]), array([1]), array([0]), array([0]), array([0]), array([0]), array([1]), array([1]), array([1]), array([0]), array([0]), array([0]), array([0]), array([1]), array([0]), array([1]), array([1]), array([2]), array([1]), array([0]), array([0]), array([0]), array([1]), array([1]), array([1]), array([1]), array([0]), array([0]), array([1]), array([0]), array([0]), array([0]), array([0]), array([1]), array([2]), array([1]), array([0]), array([1]), array([1]), array([0]), array([1]), array([0]), array([2]), array([2]), array([0]), array([2]), array([0]), array([1]), array([0]), array([0]), array([1]), array([0]), array([1]), array([0]), array([2]), array([1]), array([0]), array([1]), array([1]), array([0]), array([1]), array([1]), array([0]), array([0]), array([0]), array([0]), array([0]), array([0]), array([1]), array([0]), array([2]), array([0]), array([0]), array([1]), array([0]), array([0]), array([0]), array([0]), array([1]), array([1]), array([1]), array([0]), array([0]), array([0]), array([1]), array([0]), array([1]), array([1]), array([0]), array([0]), array([1]), array([0]), array([0]), array([1]), array([1]), array([0]), array([0]), array([0]), array([0]), array([0]), array([0]), array([0]), array([0]), array([1]), array([1]), array([2]), array([0]), array([0]), array([1]), array([0]), array([0]), array([0]), array([1]), array([0]), array([1]), array([0]), array([0]), array([0]), array([0]), array([0]), array([0]), array([1]), array([1]), array([0]), array([1]), array([0]), array([0]), array([0]), array([0]), array([0]), array([0]), array([0]), array([0]), array([1]), array([1]), array([0]), array([0]), array([0]), array([2]), array([0]), array([1]), array([0]), array([1]), array([1]), array([1]), array([2]), array([1]), array([2]), array([0]), array([2]), array([1]), array([0]), array([1]), array([1]), array([0]), array([0]), array([2]), array([0]), array([1]), array([0]), array([0]), array([1]), array([0]), array([2]), array([0]), array([0]), array([0]), array([1]), array([2]), array([0]), array([0]), array([1]), array([0]), array([1]), array([0]), array([0]), array([1]), array([1]), array([0]), array([2]), array([1]), array([0]), array([2]), array([0]), array([2]), array([0]), array([0]), array([2]), array([0]), array([1]), array([1]), array([2]), array([0]), array([0]), array([2]), array([2]), array([2]), array([1]), array([1]), array([1]), array([0]), array([2]), array([0]), array([0]), array([0]), array([1]), array([2]), array([2]), array([0]), array([0]), array([0]), array([2]), array([0]), array([0]), array([0]), array([0]), array([0]), array([2]), array([0]), array([1]), array([0]), array([0]), array([0]), array([1]), array([0]), array([1]), array([0]), array([2]), array([0]), array([1]), array([0]), array([0]), array([1]), array([0]), array([1]), array([2]), array([1]), array([1]), array([0]), array([2]), array([2]), array([0]), array([0]), array([0]), array([1]), array([0]), array([0]), array([2]), array([1]), array([2]), array([2]), array([0]), array([0]), array([0]), array([2]), array([0]), array([2]), array([0]), array([2]), array([1]), array([1]), array([1]), array([0]), array([1]), array([0]), array([1]), array([0]), array([1]), array([0]), array([0]), array([0]), array([0]), array([0]), array([0]), array([0]), array([0]), array([0]), array([2]), array([0]), array([0]), array([2]), array([1]), array([0]), array([0]), array([1]), array([0]), array([2]), array([1]), array([0]), array([2]), array([1]), array([1]), array([1]), array([0]), array([0]), array([0]), array([2]), array([0]), array([1]), array([0]), array([0]), array([0]), array([1]), array([0]), array([2]), array([0]), array([0]), array([1]), array([0]), array([0]), array([0]), array([0]), array([1]), array([0]), array([1]), array([1]), array([0]), array([0]), array([1]), array([1]), array([2]), array([1]), array([1]), array([0]), array([1]), array([0]), array([0]), array([0]), array([1]), array([0]), array([1]), array([0]), array([0]), array([1]), array([0]), array([1]), array([1]), array([0]), array([0]), array([0]), array([0]), array([2]), array([2]), array([0]), array([1]), array([3]), array([0]), array([1]), array([1]), array([0]), array([1]), array([0]), array([1]), array([2]), array([2]), array([1]), array([1]), array([0]), array([1]), array([1]), array([0]), array([1]), array([0]), array([0]), array([1]), array([2]), array([0]), array([2]), array([0]), array([1]), array([0]), array([2]), array([1]), array([0]), array([1]), array([0]), array([0]), array([1]), array([0]), array([1]), array([2]), array([1]), array([1]), array([0]), array([0]), array([0]), array([0]), array([0]), array([1]), array([0]), array([0]), array([0]), array([0]), array([0]), array([0]), array([0]), array([0]), array([0]), array([0]), array([0]), array([0]), array([0]), array([0]), array([1]), array([0]), array([0]), array([0]), array([1]), array([0]), array([1]), array([1]), array([0]), array([0]), array([0]), array([0]), array([0]), array([0]), array([0]), array([2]), array([0]), array([1]), array([2]), array([0]), array([1]), array([0]), array([0]), array([1]), array([1]), array([1]), array([0]), array([0]), array([0]), array([0]), array([1]), array([0]), array([1]), array([1]), array([0]), array([0]), array([1]), array([2]), array([0]), array([1]), array([1]), array([0]), array([2]), array([1]), array([0]), array([0]), array([0]), array([0]), array([2]), array([1]), array([0]), array([1]), array([0]), array([1]), array([0]), array([0]), array([0]), array([0]), array([0]), array([0]), array([0]), array([0]), array([1]), array([1]), array([0]), array([0]), array([1]), array([0]), array([0]), array([1]), array([0]), array([1]), array([0]), array([0]), array([1]), array([2]), array([2]), array([0]), array([0]), array([0]), array([1]), array([1]), array([1]), array([0]), array([0]), array([1]), array([0]), array([0]), array([1]), array([2]), array([0]), array([0]), array([0]), array([1]), array([1]), array([1]), array([0]), array([0]), array([1]), array([0]), array([0]), array([1]), array([0]), array([0]), array([0]), array([0]), array([0]), array([1]), array([1]), array([1]), array([1]), array([0]), array([1]), array([1]), array([1]), array([1]), array([0]), array([1]), array([1]), array([0]), array([1]), array([0]), array([1]), array([1]), array([1]), array([2]), array([1]), array([1]), array([1]), array([0]), array([1]), array([1]), array([1]), array([1]), array([2]), array([0]), array([0]), array([1]), array([0]), array([0]), array([0]), array([0]), array([2]), array([0]), array([2]), array([0]), array([2]), array([1]), array([0]), array([1]), array([1]), array([1]), array([0]), array([0]), array([1]), array([0]), array([1]), array([1]), array([2]), array([1]), array([1]), array([0]), array([0]), array([1]), array([1]), array([1]), array([1]), array([1]), array([1]), array([1]), array([1]), array([0]), array([0]), array([0]), array([0]), array([0]), array([2]), array([2]), array([1]), array([0]), array([0]), array([1]), array([0]), array([1]), array([1]), array([0]), array([1]), array([1]), array([0]), array([2]), array([1]), array([2]), array([1]), array([0]), array([0]), array([1]), array([0]), array([1]), array([1]), array([1]), array([0]), array([2]), array([1]), array([0]), array([2]), array([2]), array([0]), array([2]), array([1]), array([0]), array([0]), array([0]), array([0]), array([1]), array([0]), array([0]), array([0]), array([0]), array([1]), array([0]), array([0]), array([0]), array([0]), array([0]), array([0]), array([1]), array([0]), array([0]), array([1]), array([0]), array([1]), array([1]), array([1]), array([0]), array([0]), array([2]), array([0]), array([1]), array([1]), array([0]), array([2]), array([2]), array([0]), array([1]), array([0]), array([2]), array([0]), array([1]), array([0]), array([0]), array([1]), array([0]), array([0]), array([0]), array([1]), array([0]), array([0]), array([2]), array([1]), array([1]), array([0]), array([0]), array([0]), array([1]), array([0]), array([1]), array([0]), array([0]), array([2]), array([2]), array([0]), array([0]), array([0]), array([0]), array([1]), array([1]), array([0]), array([0]), array([0]), array([1]), array([1]), array([0]), array([1]), array([2]), array([1]), array([0]), array([0]), array([0]), array([0]), array([0]), array([0]), array([0]), array([0]), array([0]), array([0]), array([2]), array([0]), array([0]), array([1]), array([0]), array([0]), array([1]), array([1]), array([1]), array([0]), array([0]), array([1]), array([2]), array([0]), array([0]), array([0]), array([0]), array([0]), array([2]), array([1]), array([0]), array([1]), array([0]), array([1]), array([0]), array([2]), array([0]), array([1]), array([0]), array([0]), array([0]), array([2]), array([0]), array([0]), array([0]), array([0]), array([2]), array([1]), array([1]), array([1]), array([1]), array([0]), array([0]), array([0]), array([1]), array([0]), array([1]), array([1]), array([0]), array([1]), array([1]), array([2]), array([0]), array([0]), array([0]), array([0]), array([0]), array([0]), array([2]), array([1]), array([1]), array([1]), array([2]), array([1]), array([1]), array([0]), array([0]), array([1]), array([2]), array([1]), array([0]), array([0]), array([0]), array([0]), array([1]), array([1]), array([1]), array([0]), array([0]), array([1]), array([0]), array([2]), array([1]), array([0]), array([0]), array([1]), array([0]), array([1]), array([1]), array([2]), array([1]), array([0]), array([1]), array([0]), array([0]), array([0]), array([0]), array([1]), array([0]), array([1]), array([0]), array([1]), array([0]), array([1]), array([0]), array([1]), array([1]), array([1]), array([0]), array([0]), array([0]), array([0]), array([0]), array([0]), array([1]), array([1]), array([1]), array([0]), array([0]), array([1]), array([1]), array([1]), array([0]), array([0]), array([0]), array([0]), array([0]), array([0]), array([0]), array([0]), array([1]), array([0]), array([2]), array([0]), array([2]), array([0]), array([0]), array([0]), array([1]), array([0]), array([1]), array([0]), array([2]), array([0]), array([2]), array([0]), array([0]), array([0]), array([0]), array([0]), array([0]), array([0]), array([1]), array([0]), array([1]), array([1]), array([0]), array([0]), array([2]), array([1]), array([1]), array([1]), array([0]), array([2]), array([0]), array([0]), array([0]), array([1]), array([0]), array([1]), array([0]), array([2]), array([2]), array([0]), array([1]), array([0]), array([0]), array([0]), array([0]), array([1]), array([0]), array([0]), array([0]), array([0]), array([1]), array([2]), array([0]), array([0]), array([2]), array([0]), array([0]), array([0]), array([1]), array([1]), array([0]), array([0]), array([0]), array([1]), array([0]), array([0]), array([1]), array([1]), array([1]), array([0]), array([0]), array([0]), array([1]), array([0]), array([0]), array([0]), array([0]), array([1]), array([1]), array([0]), array([1]), array([2]), array([1]), array([0]), array([1]), array([0]), array([1]), array([1]), array([1]), array([0]), array([1]), array([0]), array([0]), array([1]), array([2]), array([1]), array([0]), array([0]), array([0]), array([0]), array([1]), array([1]), array([0]), array([1]), array([1]), array([1]), array([0]), array([1]), array([0]), array([0]), array([0]), array([0]), array([1]), array([0]), array([2]), array([1]), array([2]), array([1]), array([0]), array([0]), array([0]), array([0]), array([0]), array([1]), array([0]), array([0]), array([0]), array([0]), array([2]), array([0]), array([0]), array([0]), array([1]), array([0]), array([0]), array([2]), array([0]), array([0]), array([1]), array([0]), array([1]), array([1]), array([2]), array([1]), array([0]), array([0]), array([2]), array([0]), array([1]), array([2]), array([0]), array([0]), array([0]), array([0]), array([0]), array([0]), array([1]), array([0]), array([0]), array([0]), array([0]), array([0]), array([0]), array([0]), array([0]), array([0]), array([0]), array([0]), array([0]), array([0]), array([0]), array([1]), array([0]), array([0]), array([0]), array([2]), array([2]), array([0]), array([1]), array([0]), array([0]), array([0]), array([1]), array([0]), array([1]), array([0]), array([2]), array([0]), array([0]), array([0]), array([2]), array([0]), array([0]), array([0]), array([1]), array([0]), array([2]), array([1]), array([0]), array([0]), array([1]), array([0]), array([0]), array([1]), array([1]), array([1]), array([2]), array([1]), array([1]), array([1]), array([0]), array([0]), array([1]), array([1]), array([2]), array([1]), array([1]), array([0]), array([0]), array([1]), array([0]), array([0]), array([0]), array([1]), array([1]), array([0]), array([1]), array([1]), array([1]), array([1]), array([0]), array([0]), array([1]), array([2]), array([1]), array([0]), array([0]), array([0]), array([0]), array([0]), array([0]), array([0]), array([0]), array([0]), array([1]), array([0]), array([2]), array([1]), array([0]), array([2]), array([0]), array([0]), array([2]), array([2]), array([0]), array([1]), array([1]), array([0]), array([0]), array([0]), array([1]), array([2]), array([1]), array([0]), array([1]), array([1]), array([1]), array([0]), array([2]), array([1]), array([1]), array([0]), array([0]), array([1]), array([1]), array([1]), array([0]), array([2]), array([0]), array([0]), array([1]), array([1]), array([0]), array([0]), array([1]), array([2]), array([0]), array([1]), array([2]), array([1]), array([0]), array([0]), array([0]), array([0]), array([0]), array([0]), array([0]), array([2]), array([0]), array([0]), array([1]), array([0]), array([0]), array([0]), array([1]), array([0]), array([0]), array([0]), array([0]), array([0]), array([0]), array([1]), array([1]), array([2]), array([1]), array([1]), array([0]), array([2]), array([0]), array([1]), array([0]), array([3]), array([2]), array([2]), array([1]), array([0]), array([1]), array([0]), array([1]), array([0]), array([1]), array([1]), array([0]), array([0]), array([0]), array([0]), array([1]), array([0]), array([0]), array([0]), array([0]), array([0]), array([1]), array([1]), array([0]), array([1]), array([0]), array([1]), array([1]), array([1]), array([1]), array([0]), array([2]), array([0]), array([0]), array([0]), array([1]), array([0]), array([2]), array([1]), array([0]), array([1]), array([2]), array([1]), array([0]), array([0]), array([0]), array([1]), array([0]), array([1]), array([0]), array([0]), array([1]), array([0]), array([1]), array([0]), array([0]), array([0]), array([0]), array([1]), array([0]), array([0]), array([0]), array([1]), array([0]), array([0]), array([1]), array([0]), array([0]), array([0]), array([0]), array([2]), array([1]), array([1]), array([2]), array([1]), array([0]), array([1]), array([0]), array([0]), array([1]), array([1]), array([2]), array([0]), array([2]), array([1]), array([0]), array([0]), array([1]), array([0]), array([1]), array([1]), array([0]), array([1]), array([1]), array([0]), array([0]), array([1]), array([1]), array([2]), array([0]), array([0]), array([0]), array([2]), array([1]), array([1]), array([0]), array([2]), array([0]), array([0]), array([0]), array([0]), array([0]), array([0]), array([1]), array([1]), array([0]), array([0]), array([2]), array([0]), array([2]), array([0]), array([1]), array([0]), array([1]), array([0]), array([0]), array([0]), array([3]), array([2]), array([0]), array([1]), array([1]), array([1]), array([0]), array([0]), array([1]), array([1]), array([0]), array([1]), array([0]), array([0]), array([0]), array([1]), array([1]), array([0]), array([2]), array([2]), array([0]), array([1]), array([1]), array([0]), array([0]), array([0]), array([2]), array([0]), array([1]), array([0]), array([0]), array([1]), array([0]), array([2]), array([1]), array([0]), array([1]), array([1]), array([1]), array([2]), array([0]), array([0]), array([0]), array([0]), array([0]), array([0]), array([0]), array([0]), array([1]), array([0]), array([0]), array([0]), array([1]), array([0]), array([0]), array([0]), array([0]), array([0]), array([1]), array([1]), array([0]), array([1]), array([1]), array([1]), array([0]), array([2]), array([0]), array([0]), array([1]), array([0]), array([1]), array([0]), array([0]), array([1]), array([0]), array([1]), array([2]), array([1]), array([1]), array([1]), array([0]), array([0]), array([0]), array([0]), array([2]), array([1]), array([0]), array([1]), array([0]), array([0]), array([0]), array([1]), array([2]), array([0]), array([0]), array([0]), array([0]), array([1]), array([0]), array([1]), array([2]), array([2]), array([1]), array([0]), array([1]), array([0]), array([2]), array([0]), array([0]), array([1]), array([0]), array([0]), array([0]), array([0]), array([0]), array([0]), array([1]), array([1]), array([1]), array([0]), array([1]), array([0]), array([0]), array([1]), array([1]), array([1]), array([0]), array([1]), array([0]), array([0]), array([2]), array([0]), array([0]), array([0]), array([0]), array([0]), array([0]), array([1]), array([1]), array([1]), array([2]), array([0]), array([0]), array([0]), array([0]), array([0]), array([1]), array([1]), array([0]), array([0]), array([1]), array([0]), array([2]), array([1]), array([1]), array([0]), array([1]), array([0]), array([1]), array([0]), array([1]), array([0]), array([0]), array([1]), array([1]), array([2]), array([0]), array([1]), array([1]), array([2]), array([2]), array([0]), array([2]), array([0]), array([2]), array([1]), array([0]), array([1]), array([1]), array([0]), array([0]), array([1]), array([0]), array([0]), array([1]), array([1]), array([2]), array([0]), array([1]), array([1]), array([0]), array([0]), array([3]), array([0]), array([0]), array([1]), array([1]), array([1]), array([1]), array([0]), array([0]), array([0]), array([3]), array([1]), array([1]), array([0]), array([1]), array([2]), array([0]), array([1]), array([0]), array([0]), array([1]), array([1]), array([1]), array([1]), array([2]), array([1]), array([0]), array([1]), array([1]), array([0]), array([1]), array([0]), array([2]), array([1]), array([1]), array([2]), array([1]), array([1]), array([1]), array([0]), array([1]), array([0]), array([0]), array([1]), array([0]), array([0]), array([0]), array([0]), array([0]), array([1]), array([0]), array([0]), array([0]), array([0]), array([2]), array([0]), array([0]), array([0]), array([0]), array([1]), array([1]), array([0]), array([1]), array([0]), array([1]), array([0]), array([0]), array([0]), array([1]), array([0]), array([1]), array([1]), array([0]), array([0]), array([0]), array([3]), array([1]), array([0]), array([1]), array([2]), array([1]), array([0]), array([1]), array([0]), array([0]), array([0]), array([0]), array([0]), array([0]), array([2]), array([1]), array([1]), array([2]), array([0]), array([0]), array([0]), array([0]), array([1]), array([0]), array([1]), array([2]), array([0]), array([0]), array([0]), array([0]), array([0]), array([2]), array([0]), array([0]), array([0]), array([0]), array([1]), array([0]), array([0]), array([1]), array([0]), array([0]), array([1]), array([2]), array([0]), array([0]), array([0]), array([1]), array([2]), array([0]), array([0]), array([1]), array([1]), array([0]), array([0]), array([0]), array([0]), array([0]), array([0]), array([1]), array([0]), array([1]), array([0]), array([0]), array([1]), array([0]), array([0]), array([0]), array([1]), array([1]), array([1]), array([1]), array([1]), array([0]), array([1]), array([0]), array([0]), array([1]), array([0]), array([0]), array([1]), array([1]), array([1]), array([0]), array([0]), array([0]), array([0]), array([0]), array([1]), array([1]), array([1]), array([1]), array([0]), array([0]), array([3]), array([0]), array([0]), array([1]), array([2]), array([2]), array([0]), array([1]), array([1]), array([2]), array([1]), array([2]), array([0]), array([0]), array([1]), array([0]), array([0]), array([0]), array([2]), array([0]), array([1]), array([0]), array([0]), array([0]), array([0]), array([1]), array([0]), array([0]), array([0]), array([1]), array([0]), array([0]), array([2]), array([2]), array([0]), array([1]), array([1]), array([1]), array([1]), array([0]), array([0]), array([1]), array([0]), array([1]), array([0]), array([0]), array([0]), array([0]), array([2]), array([0]), array([0]), array([2]), array([1]), array([1]), array([1]), array([1]), array([0]), array([0]), array([0]), array([0]), array([0]), array([1]), array([1]), array([1]), array([0]), array([0]), array([0]), array([0]), array([0]), array([1]), array([1]), array([0]), array([0]), array([1]), array([0]), array([0]), array([0]), array([0]), array([1]), array([2]), array([0]), array([0]), array([0]), array([0]), array([1]), array([0]), array([0]), array([1]), array([0]), array([1]), array([0]), array([0]), array([0]), array([0]), array([0]), array([1]), array([0]), array([0]), array([1]), array([0]), array([0]), array([0]), array([0]), array([1]), array([1]), array([1]), array([0]), array([0]), array([1]), array([1]), array([0]), array([0]), array([0]), array([0]), array([0]), array([0]), array([3]), array([0]), array([0]), array([0]), array([0]), array([1]), array([0]), array([1]), array([0]), array([1]), array([1]), array([0]), array([0]), array([0]), array([0]), array([3]), array([0]), array([0]), array([0]), array([0]), array([0]), array([0]), array([0]), array([0]), array([1]), array([0]), array([0]), array([1]), array([1]), array([0]), array([0]), array([1]), array([0]), array([1]), array([1]), array([0]), array([0]), array([0]), array([2]), array([0]), array([0]), array([0]), array([0]), array([0]), array([0]), array([1]), array([1]), array([0]), array([0]), array([1]), array([0]), array([1]), array([1]), array([0]), array([0]), array([1]), array([0]), array([0]), array([0]), array([1]), array([1]), array([0]), array([1]), array([1]), array([1]), array([0]), array([0]), array([1]), array([0]), array([1]), array([0]), array([1]), array([2]), array([1]), array([1]), array([0]), array([0]), array([0]), array([1]), array([1]), array([1]), array([0]), array([0]), array([0]), array([1]), array([2]), array([0]), array([0]), array([1]), array([0]), array([1]), array([0]), array([1]), array([0]), array([0]), array([0]), array([2]), array([0]), array([1]), array([0]), array([0]), array([1]), array([0]), array([0]), array([0]), array([0]), array([1]), array([0]), array([1]), array([0]), array([1]), array([1]), array([0]), array([0]), array([0]), array([1]), array([1]), array([0]), array([1]), array([2]), array([0]), array([0]), array([0]), array([0]), array([1]), array([0]), array([0]), array([2]), array([0]), array([1]), array([0]), array([1]), array([0]), array([0]), array([0]), array([0]), array([2]), array([1]), array([1]), array([1]), array([0]), array([1]), array([1]), array([1]), array([0]), array([0]), array([0]), array([1]), array([0]), array([1]), array([0]), array([0]), array([2]), array([0]), array([0]), array([0]), array([0]), array([1]), array([1]), array([0]), array([0]), array([1]), array([0]), array([0]), array([2]), array([0]), array([0]), array([0]), array([1]), array([0]), array([1]), array([1]), array([0]), array([2]), array([1]), array([1]), array([2]), array([1]), array([0]), array([0]), array([0]), array([0]), array([1]), array([0]), array([0]), array([0]), array([1]), array([1]), array([1]), array([2]), array([1]), array([1]), array([0]), array([1]), array([0]), array([0]), array([1]), array([0]), array([0]), array([0]), array([0]), array([0]), array([2]), array([1]), array([0]), array([0]), array([0]), array([1]), array([1]), array([0]), array([0]), array([1]), array([2]), array([0]), array([1]), array([0]), array([0]), array([1]), array([1]), array([1]), array([0]), array([0]), array([0]), array([2]), array([0]), array([0]), array([0]), array([1]), array([0]), array([0]), array([0]), array([0]), array([1]), array([0]), array([0]), array([0]), array([0]), array([0]), array([1]), array([1]), array([0]), array([0]), array([1]), array([1]), array([0]), array([1]), array([0]), array([0]), array([1]), array([2]), array([1]), array([1]), array([0]), array([0]), array([1]), array([0]), array([0]), array([0]), array([0]), array([1]), array([2]), array([0]), array([1]), array([1]), array([0]), array([0]), array([0]), array([1]), array([0]), array([1]), array([1]), array([1]), array([1]), array([1]), array([1]), array([0]), array([2]), array([2]), array([1]), array([1]), array([0]), array([1]), array([1]), array([2]), array([2]), array([0]), array([2]), array([0]), array([2]), array([2]), array([0]), array([1]), array([0]), array([1]), array([1]), array([1]), array([0]), array([0]), array([1]), array([1]), array([0]), array([0]), array([0]), array([0]), array([0]), array([2]), array([0]), array([0]), array([1]), array([1]), array([1]), array([0]), array([0]), array([0]), array([1]), array([0]), array([0]), array([1]), array([0]), array([1]), array([1]), array([0]), array([1]), array([0]), array([0]), array([1]), array([0]), array([2]), array([0]), array([0]), array([0]), array([0]), array([1]), array([0]), array([1]), array([1]), array([1]), array([0]), array([0]), array([1]), array([0]), array([0]), array([1]), array([0]), array([0]), array([0]), array([0]), array([1]), array([1]), array([1]), array([1]), array([0]), array([0]), array([1]), array([1]), array([0]), array([1]), array([1]), array([2]), array([0]), array([0]), array([2]), array([0]), array([0]), array([2]), array([0]), array([2]), array([0]), array([1]), array([0]), array([1]), array([0]), array([2]), array([0]), array([0]), array([0]), array([1]), array([0]), array([0]), array([0]), array([0]), array([0]), array([2]), array([2]), array([0]), array([1]), array([0]), array([0]), array([0]), array([0]), array([0]), array([0]), array([2]), array([0]), array([0]), array([0]), array([2]), array([2]), array([0]), array([1]), array([1]), array([0]), array([0]), array([1]), array([0]), array([2]), array([0]), array([0]), array([1]), array([1]), array([2]), array([1]), array([1]), array([0]), array([1]), array([1]), array([0]), array([0]), array([1]), array([1]), array([1]), array([0]), array([0]), array([0]), array([0]), array([1]), array([0]), array([1]), array([0]), array([0]), array([0]), array([1]), array([0]), array([1]), array([0]), array([0]), array([2]), array([1]), array([1]), array([1]), array([2]), array([0]), array([1]), array([0]), array([0]), array([0]), array([1]), array([0]), array([0]), array([1]), array([0]), array([2]), array([0]), array([0]), array([0]), array([1]), array([0]), array([0]), array([2]), array([0]), array([0]), array([0]), array([0]), array([2]), array([1]), array([2]), array([0]), array([2]), array([0]), array([0]), array([0]), array([0]), array([2]), array([1]), array([0]), array([1]), array([0]), array([1]), array([0]), array([0]), array([1]), array([1]), array([0]), array([1]), array([0]), array([1]), array([0]), array([0]), array([1]), array([0]), array([0]), array([0]), array([1]), array([0]), array([0]), array([2]), array([0]), array([1]), array([0]), array([0]), array([2]), array([0]), array([0]), array([1]), array([2]), array([1]), array([1]), array([1]), array([0]), array([0]), array([1]), array([0]), array([1]), array([1]), array([0]), array([1]), array([0]), array([1]), array([1]), array([1]), array([0]), array([0]), array([0]), array([1]), array([1]), array([1]), array([0]), array([0]), array([0]), array([0]), array([1]), array([2]), array([0]), array([0]), array([1]), array([0]), array([0]), array([2]), array([0]), array([0]), array([2]), array([0]), array([0]), array([1]), array([0]), array([0]), array([1]), array([0]), array([0]), array([2]), array([0]), array([1]), array([0]), array([1]), array([0]), array([0]), array([0]), array([0]), array([2]), array([0]), array([0]), array([0]), array([0]), array([0]), array([0]), array([0]), array([0]), array([1]), array([1]), array([0]), array([1]), array([0]), array([0]), array([0]), array([0]), array([1]), array([0]), array([2]), array([0]), array([0]), array([2]), array([0]), array([1]), array([0]), array([0]), array([0]), array([1]), array([0]), array([0]), array([1]), array([0]), array([1]), array([0]), array([1]), array([0]), array([1]), array([0]), array([0]), array([1]), array([0]), array([0]), array([2]), array([0]), array([0]), array([2]), array([0]), array([3]), array([1]), array([1]), array([0]), array([1]), array([1]), array([0]), array([0]), array([0]), array([0]), array([0]), array([0]), array([2]), array([0]), array([0]), array([0]), array([2]), array([1]), array([1]), array([0]), array([0]), array([0]), array([1]), array([1]), array([0]), array([1]), array([0]), array([2]), array([1]), array([0]), array([1]), array([0]), array([1]), array([1]), array([0]), array([0]), array([1]), array([0]), array([1]), array([1]), array([0]), array([0]), array([1]), array([0]), array([0]), array([0]), array([1]), array([2]), array([2]), array([0]), array([0]), array([2]), array([1]), array([1]), array([0]), array([2]), array([1]), array([1]), array([0]), array([0]), array([1]), array([1]), array([1]), array([0]), array([0]), array([0]), array([0]), array([1]), array([1]), array([0]), array([0]), array([1]), array([2]), array([0]), array([1]), array([0]), array([1]), array([0]), array([1]), array([0]), array([1]), array([1]), array([0]), array([1]), array([1]), array([0]), array([2]), array([1]), array([0]), array([1]), array([1]), array([0]), array([0]), array([1]), array([0]), array([1]), array([2]), array([0]), array([0]), array([2]), array([0]), array([0]), array([1]), array([1]), array([0]), array([0]), array([1]), array([0]), array([1]), array([0]), array([1]), array([0]), array([1]), array([0]), array([0]), array([1]), array([1]), array([0]), array([0]), array([0]), array([1]), array([2]), array([0]), array([0]), array([0]), array([0]), array([1]), array([1]), array([0]), array([1]), array([0]), array([1]), array([2]), array([1]), array([0]), array([1]), array([0]), array([0]), array([0]), array([2]), array([1]), array([0]), array([1]), array([0]), array([1]), array([0]), array([1]), array([0]), array([1]), array([2]), array([0]), array([1]), array([0]), array([0]), array([1]), array([1]), array([1]), array([0]), array([1]), array([1]), array([0]), array([0]), array([0]), array([0]), array([1]), array([0]), array([0]), array([0]), array([0]), array([0]), array([0]), array([1]), array([0]), array([2]), array([0]), array([0]), array([0]), array([0]), array([2]), array([1]), array([1]), array([2]), array([0]), array([0]), array([1]), array([1]), array([0]), array([2]), array([0]), array([1]), array([0]), array([1]), array([1]), array([0]), array([0]), array([0]), array([1]), array([1]), array([1]), array([0]), array([0]), array([1]), array([0]), array([0]), array([0]), array([0]), array([1]), array([0]), array([0]), array([1]), array([1]), array([2]), array([0]), array([0]), array([1]), array([0]), array([1]), array([1]), array([0]), array([1]), array([1]), array([0]), array([1]), array([0]), array([1]), array([1]), array([1]), array([0]), array([0]), array([0]), array([1]), array([0]), array([0]), array([0]), array([0]), array([1]), array([2]), array([0]), array([0]), array([0]), array([0]), array([0]), array([1]), array([1]), array([0]), array([1]), array([1]), array([0]), array([0]), array([1]), array([0]), array([0]), array([0]), array([1]), array([0]), array([0]), array([0]), array([0]), array([0]), array([1]), array([0]), array([0]), array([0]), array([0]), array([0]), array([0]), array([0]), array([0]), array([0]), array([1]), array([1]), array([0]), array([0]), array([0]), array([0]), array([1]), array([0]), array([1]), array([2]), array([1]), array([2]), array([0]), array([1]), array([0]), array([1]), array([2]), array([2]), array([2]), array([0]), array([0]), array([0]), array([1]), array([1]), array([1]), array([1]), array([2]), array([0]), array([0]), array([0]), array([0]), array([1]), array([0]), array([1]), array([1]), array([0]), array([0]), array([0]), array([0]), array([0]), array([0]), array([0]), array([0]), array([0]), array([1]), array([2]), array([2]), array([2]), array([2]), array([0]), array([2]), array([1]), array([2]), array([0]), array([0]), array([1]), array([1]), array([0]), array([3]), array([1]), array([3]), array([1]), array([2]), array([0]), array([2]), array([0]), array([0]), array([2]), array([0]), array([0]), array([1]), array([1]), array([0]), array([1]), array([2]), array([0]), array([2]), array([2]), array([2]), array([1]), array([2]), array([1]), array([0]), array([0]), array([0]), array([1]), array([0]), array([0]), array([1]), array([0]), array([1]), array([0]), array([3]), array([0]), array([0]), array([0]), array([0]), array([0]), array([0]), array([1]), array([1]), array([1]), array([0]), array([2]), array([0]), array([0]), array([1]), array([0]), array([0]), array([1]), array([1]), array([2]), array([1]), array([0]), array([0]), array([0]), array([1]), array([0]), array([1]), array([1]), array([0]), array([1]), array([0]), array([0]), array([1]), array([0]), array([2]), array([0]), array([0]), array([0]), array([1]), array([0]), array([0]), array([0]), array([1]), array([0]), array([1]), array([2]), array([0]), array([0]), array([2]), array([0]), array([0]), array([0]), array([2]), array([1]), array([0]), array([1]), array([0]), array([0]), array([1]), array([0]), array([0]), array([0]), array([0]), array([2]), array([2]), array([0]), array([1]), array([0]), array([0]), array([1]), array([0]), array([1]), array([0]), array([0]), array([0]), array([1]), array([0]), array([1]), array([0]), array([1]), array([1]), array([2]), array([0]), array([1]), array([1]), array([1]), array([1]), array([0]), array([0]), array([0]), array([0]), array([0]), array([1]), array([0]), array([2]), array([0]), array([0]), array([1]), array([0]), array([0]), array([2]), array([1]), array([1]), array([0]), array([1]), array([1]), array([1]), array([2]), array([1]), array([0]), array([0]), array([1]), array([0]), array([0]), array([0]), array([1]), array([0]), array([0]), array([0]), array([1]), array([0]), array([0]), array([0]), array([0]), array([1]), array([1]), array([0]), array([0]), array([0]), array([2]), array([0]), array([1]), array([0]), array([1]), array([0]), array([0]), array([2]), array([1]), array([2]), array([1]), array([0]), array([2]), array([1]), array([2]), array([0]), array([0]), array([0]), array([0]), array([1]), array([1]), array([0]), array([0]), array([1]), array([0]), array([3]), array([0]), array([0]), array([0]), array([0]), array([1]), array([1]), array([0]), array([0]), array([1]), array([1]), array([1]), array([1]), array([2]), array([1]), array([1]), array([0]), array([0]), array([0]), array([0]), array([2]), array([0]), array([0]), array([0]), array([0]), array([0]), array([0]), array([1]), array([0]), array([2]), array([1]), array([1]), array([1]), array([2]), array([0]), array([3]), array([0]), array([1]), array([0]), array([0]), array([2]), array([1]), array([0]), array([0]), array([1]), array([0]), array([1]), array([0]), array([0]), array([0]), array([0]), array([0]), array([1]), array([1]), array([0]), array([1]), array([0]), array([0]), array([0]), array([1]), array([0]), array([0]), array([0]), array([0]), array([0]), array([1]), array([1]), array([1]), array([1]), array([1]), array([2]), array([0]), array([0]), array([1]), array([1]), array([1]), array([0]), array([1]), array([2]), array([1]), array([2]), array([0]), array([2]), array([1]), array([1]), array([0]), array([1]), array([0]), array([1]), array([1]), array([1]), array([0]), array([1]), array([0]), array([0]), array([2]), array([0]), array([2]), array([0]), array([0]), array([1]), array([1]), array([0]), array([1]), array([0]), array([0]), array([0]), array([0]), array([1]), array([1]), array([2]), array([2]), array([1]), array([0]), array([0]), array([1]), array([1]), array([0]), array([0]), array([0]), array([2]), array([0]), array([1]), array([0]), array([0]), array([1]), array([1]), array([1]), array([0]), array([2]), array([0]), array([0]), array([0]), array([0]), array([1]), array([0]), array([0]), array([1]), array([2]), array([1]), array([2]), array([0]), array([1]), array([2]), array([2]), array([0]), array([1]), array([0]), array([0]), array([1]), array([1]), array([2]), array([0]), array([1]), array([0]), array([1]), array([0]), array([0]), array([0]), array([1]), array([1]), array([1]), array([2]), array([0]), array([0]), array([0]), array([0]), array([0]), array([0]), array([0]), array([2]), array([0]), array([2]), array([0]), array([1]), array([0]), array([1]), array([1]), array([0]), array([0]), array([1]), array([1]), array([0]), array([1]), array([2]), array([0]), array([1]), array([0]), array([1]), array([0]), array([0]), array([1]), array([1]), array([3]), array([2]), array([1]), array([1]), array([2]), array([0]), array([1]), array([0]), array([0]), array([2]), array([0]), array([1]), array([1]), array([1]), array([2]), array([0]), array([1]), array([0]), array([0]), array([1]), array([0]), array([1]), array([0]), array([0]), array([0]), array([0]), array([0]), array([0]), array([0]), array([1]), array([1]), array([0]), array([0]), array([0]), array([0]), array([2]), array([0]), array([0]), array([2]), array([0]), array([0]), array([0]), array([1]), array([0]), array([0]), array([1]), array([1]), array([0]), array([1]), array([1]), array([0]), array([0]), array([1]), array([0]), array([0]), array([0]), array([1]), array([0]), array([1]), array([1]), array([0]), array([0]), array([1]), array([1]), array([2]), array([0]), array([1]), array([0]), array([0]), array([0]), array([0]), array([0]), array([0]), array([0]), array([0]), array([0]), array([0]), array([1]), array([0]), array([1]), array([1]), array([0]), array([1]), array([0]), array([1]), array([0]), array([0]), array([2]), array([0]), array([0]), array([1]), array([1]), array([0]), array([1]), array([0]), array([1]), array([1]), array([3]), array([1]), array([0]), array([0]), array([1]), array([0]), array([0]), array([0]), array([0]), array([0]), array([0]), array([0]), array([0]), array([0]), array([0]), array([2]), array([0]), array([0]), array([1]), array([0]), array([2]), array([0]), array([0]), array([2]), array([0]), array([0]), array([0]), array([1]), array([0]), array([0]), array([0]), array([2]), array([2]), array([0]), array([1]), array([1]), array([0]), array([2]), array([0]), array([0]), array([1]), array([0]), array([1]), array([0]), array([0]), array([0]), array([1]), array([0]), array([0]), array([1]), array([0]), array([0]), array([1]), array([0]), array([0]), array([0]), array([0]), array([1]), array([0]), array([2]), array([3]), array([0]), array([1])]\n"
     ]
    }
   ],
   "source": [
    "liste_y_pred = leaveoneout(data_test, \"descr_grav\")\n",
    "print(liste_y_pred)"
   ]
  },
  {
   "attachments": {},
   "cell_type": "markdown",
   "metadata": {},
   "source": []
  },
  {
   "attachments": {},
   "cell_type": "markdown",
   "metadata": {},
   "source": [
    "### Classification avec KNN"
   ]
  },
  {
   "cell_type": "code",
   "execution_count": 339,
   "metadata": {},
   "outputs": [],
   "source": [
    "#on va prendre en entrée une ligne du df\n",
    "def KnnClassification(ligne,df,k):\n",
    "    dictList = [None] * len(df)\n",
    "    firstk = []\n",
    "    for index, row in df.iterrows():\n",
    "        dictList[index] = np.linalg.norm(ligne - row)\n",
    "    \n",
    "    sorted_values = sorted(enumerate(dictList), key=lambda x: x[1])[:k]\n",
    "    for index,value in sorted_values:\n",
    "        firstk.append([df.loc[index]])\n",
    "    return firstk"
   ]
  },
  {
   "cell_type": "code",
   "execution_count": 340,
   "metadata": {},
   "outputs": [
    {
     "name": "stdout",
     "output_type": "stream",
     "text": [
      "[array([2, 1, 1, ..., 0, 0, 0]), array([0, 0, 0, ..., 1, 0, 1]), array([1, 0, 0, ..., 0, 0, 0]), array([0, 0, 0, ..., 1, 2, 0]), array([1, 0, 0, ..., 0, 0, 1])]\n"
     ]
    }
   ],
   "source": [
    "knn = KNeighborsClassifier(n_neighbors=5)\n",
    "liste_data_y_pred = []\n",
    "for i in range(len(liste_data_holdout)):\n",
    "    X_train = liste_data_holdout[i][0]\n",
    "    y_train = liste_data_holdout[i][2]\n",
    "    X_test = liste_data_holdout[i][1]\n",
    "    knn.fit(X_train, y_train)\n",
    "    y_pred = knn.predict(X_test)\n",
    "    liste_data_y_pred.append(y_pred)\n",
    "print(liste_data_y_pred)"
   ]
  },
  {
   "cell_type": "code",
   "execution_count": 341,
   "metadata": {},
   "outputs": [
    {
     "name": "stdout",
     "output_type": "stream",
     "text": [
      "14575\n",
      "[[latitude     48.75000\n",
      "longitude    -2.98333\n",
      "Name: 0, dtype: float64], [latitude     48.75000\n",
      "longitude    -2.98333\n",
      "Name: 1864, dtype: float64], [latitude     48.75000\n",
      "longitude    -2.98333\n",
      "Name: 5586, dtype: float64], [latitude     48.75000\n",
      "longitude    -2.98333\n",
      "Name: 8742, dtype: float64], [latitude     48.71670\n",
      "longitude    -2.96667\n",
      "Name: 9162, dtype: float64]]\n"
     ]
    }
   ],
   "source": [
    "#from scratch knn\n",
    "\n",
    "X_test = liste_data_holdout[0][1]\n",
    "X_test = X_test.reset_index(drop=True)\n",
    "print(len(X_test))\n",
    "#for i in range(len(X_test)):\n",
    " #   liste = KnnClassification(X_test.iloc[i], X_test, 5)\n",
    "liste = KnnClassification(X_test.loc[0], X_test, 5)\n",
    "print(liste)"
   ]
  },
  {
   "cell_type": "code",
   "execution_count": 342,
   "metadata": {},
   "outputs": [
    {
     "data": {
      "text/html": [
       "<div>\n",
       "<style scoped>\n",
       "    .dataframe tbody tr th:only-of-type {\n",
       "        vertical-align: middle;\n",
       "    }\n",
       "\n",
       "    .dataframe tbody tr th {\n",
       "        vertical-align: top;\n",
       "    }\n",
       "\n",
       "    .dataframe thead th {\n",
       "        text-align: right;\n",
       "    }\n",
       "</style>\n",
       "<table border=\"1\" class=\"dataframe\">\n",
       "  <thead>\n",
       "    <tr style=\"text-align: right;\">\n",
       "      <th></th>\n",
       "      <th>descr_grav</th>\n",
       "      <th>descr_cat_veh</th>\n",
       "      <th>age</th>\n",
       "    </tr>\n",
       "  </thead>\n",
       "  <tbody>\n",
       "    <tr>\n",
       "      <th>0</th>\n",
       "      <td>0</td>\n",
       "      <td>2</td>\n",
       "      <td>40</td>\n",
       "    </tr>\n",
       "    <tr>\n",
       "      <th>1</th>\n",
       "      <td>0</td>\n",
       "      <td>1</td>\n",
       "      <td>50</td>\n",
       "    </tr>\n",
       "    <tr>\n",
       "      <th>2</th>\n",
       "      <td>0</td>\n",
       "      <td>1</td>\n",
       "      <td>49</td>\n",
       "    </tr>\n",
       "    <tr>\n",
       "      <th>3</th>\n",
       "      <td>0</td>\n",
       "      <td>1</td>\n",
       "      <td>52</td>\n",
       "    </tr>\n",
       "    <tr>\n",
       "      <th>4</th>\n",
       "      <td>0</td>\n",
       "      <td>1</td>\n",
       "      <td>58</td>\n",
       "    </tr>\n",
       "  </tbody>\n",
       "</table>\n",
       "</div>"
      ],
      "text/plain": [
       "   descr_grav  descr_cat_veh  age\n",
       "0           0              2   40\n",
       "1           0              1   50\n",
       "2           0              1   49\n",
       "3           0              1   52\n",
       "4           0              1   58"
      ]
     },
     "execution_count": 342,
     "metadata": {},
     "output_type": "execute_result"
    }
   ],
   "source": [
    "data = data[['descr_grav','descr_cat_veh','age']]\n",
    "data.head()\n"
   ]
  },
  {
   "cell_type": "code",
   "execution_count": 343,
   "metadata": {},
   "outputs": [
    {
     "name": "stdout",
     "output_type": "stream",
     "text": [
      "__\n"
     ]
    }
   ],
   "source": [
    "#data = pd.read_csv(\"../df.csv\")\n",
    "#print(data.loc[65])\n",
    "print('__')\n",
    "t = KnnClassification(data.loc[65],data,5)"
   ]
  },
  {
   "cell_type": "code",
   "execution_count": 344,
   "metadata": {},
   "outputs": [
    {
     "data": {
      "text/plain": [
       "[[descr_grav        0\n",
       "  descr_cat_veh     1\n",
       "  age              44\n",
       "  Name: 65, dtype: int64],\n",
       " [descr_grav        0\n",
       "  descr_cat_veh     1\n",
       "  age              44\n",
       "  Name: 84, dtype: int64],\n",
       " [descr_grav        0\n",
       "  descr_cat_veh     1\n",
       "  age              44\n",
       "  Name: 185, dtype: int64],\n",
       " [descr_grav        0\n",
       "  descr_cat_veh     1\n",
       "  age              44\n",
       "  Name: 745, dtype: int64],\n",
       " [descr_grav        0\n",
       "  descr_cat_veh     1\n",
       "  age              44\n",
       "  Name: 796, dtype: int64]]"
      ]
     },
     "execution_count": 344,
     "metadata": {},
     "output_type": "execute_result"
    }
   ],
   "source": [
    "t"
   ]
  },
  {
   "cell_type": "code",
   "execution_count": 345,
   "metadata": {},
   "outputs": [
    {
     "name": "stdout",
     "output_type": "stream",
     "text": [
      "102\n",
      "42\n",
      "111\n"
     ]
    }
   ],
   "source": [
    "a = 'f*o'\n",
    "\n",
    "for e in a:\n",
    "    print(ord(e))\n"
   ]
  }
 ],
 "metadata": {
  "kernelspec": {
   "display_name": "Python 3",
   "language": "python",
   "name": "python3"
  },
  "language_info": {
   "codemirror_mode": {
    "name": "ipython",
    "version": 3
   },
   "file_extension": ".py",
   "mimetype": "text/x-python",
   "name": "python",
   "nbconvert_exporter": "python",
   "pygments_lexer": "ipython3",
   "version": "3.11.3"
  },
  "orig_nbformat": 4
 },
 "nbformat": 4,
 "nbformat_minor": 2
}
